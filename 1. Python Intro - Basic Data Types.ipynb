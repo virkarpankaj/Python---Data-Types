{
 "cells": [
  {
   "cell_type": "markdown",
   "id": "a0a0e9cc",
   "metadata": {},
   "source": [
    "### Algebric Operation"
   ]
  },
  {
   "cell_type": "code",
   "execution_count": 1,
   "id": "2f71c0e2",
   "metadata": {},
   "outputs": [
    {
     "data": {
      "text/plain": [
       "15"
      ]
     },
     "execution_count": 1,
     "metadata": {},
     "output_type": "execute_result"
    }
   ],
   "source": [
    "# as a calculator\n",
    "5 + 10"
   ]
  },
  {
   "cell_type": "code",
   "execution_count": 2,
   "id": "ef058ee4",
   "metadata": {},
   "outputs": [
    {
     "data": {
      "text/plain": [
       "-11"
      ]
     },
     "execution_count": 2,
     "metadata": {},
     "output_type": "execute_result"
    }
   ],
   "source": [
    "8 - 19"
   ]
  },
  {
   "cell_type": "code",
   "execution_count": 3,
   "id": "efb0196f",
   "metadata": {},
   "outputs": [
    {
     "data": {
      "text/plain": [
       "56"
      ]
     },
     "execution_count": 3,
     "metadata": {},
     "output_type": "execute_result"
    }
   ],
   "source": [
    "8 * 7"
   ]
  },
  {
   "cell_type": "code",
   "execution_count": 4,
   "id": "da8c6b21",
   "metadata": {},
   "outputs": [
    {
     "data": {
      "text/plain": [
       "7.0"
      ]
     },
     "execution_count": 4,
     "metadata": {},
     "output_type": "execute_result"
    }
   ],
   "source": [
    "49 / 7"
   ]
  },
  {
   "cell_type": "code",
   "execution_count": 5,
   "id": "1c3ec307",
   "metadata": {},
   "outputs": [
    {
     "data": {
      "text/plain": [
       "8"
      ]
     },
     "execution_count": 5,
     "metadata": {},
     "output_type": "execute_result"
    }
   ],
   "source": [
    "25 // 3"
   ]
  },
  {
   "cell_type": "code",
   "execution_count": 6,
   "id": "d77439e3",
   "metadata": {},
   "outputs": [
    {
     "data": {
      "text/plain": [
       "1"
      ]
     },
     "execution_count": 6,
     "metadata": {},
     "output_type": "execute_result"
    }
   ],
   "source": [
    "25 % 3"
   ]
  },
  {
   "cell_type": "code",
   "execution_count": 7,
   "id": "83b1e394",
   "metadata": {},
   "outputs": [
    {
     "data": {
      "text/plain": [
       "216"
      ]
     },
     "execution_count": 7,
     "metadata": {},
     "output_type": "execute_result"
    }
   ],
   "source": [
    "6**3"
   ]
  },
  {
   "cell_type": "code",
   "execution_count": 8,
   "id": "b7e20878",
   "metadata": {},
   "outputs": [
    {
     "data": {
      "text/plain": [
       "216"
      ]
     },
     "execution_count": 8,
     "metadata": {},
     "output_type": "execute_result"
    }
   ],
   "source": [
    "pow(6, 3)"
   ]
  },
  {
   "cell_type": "code",
   "execution_count": null,
   "id": "931aa562",
   "metadata": {},
   "outputs": [],
   "source": []
  },
  {
   "cell_type": "markdown",
   "id": "20b82358",
   "metadata": {},
   "source": [
    "### Defining a variable"
   ]
  },
  {
   "cell_type": "code",
   "execution_count": null,
   "id": "e03bbcef",
   "metadata": {},
   "outputs": [],
   "source": [
    "# python is case sensitive\n",
    "# variable name starts with alphabet or underscore only\n",
    "# number can be anywhere other than at start\n",
    "# dont use special charectors other than underscore"
   ]
  },
  {
   "cell_type": "code",
   "execution_count": 9,
   "id": "18a12846",
   "metadata": {},
   "outputs": [],
   "source": [
    "my_var = 'correct'\n",
    "_my1var = 'also correct'\n",
    "_1myvar1 = 'you can'\n",
    "_1_my1_ = 'possible'"
   ]
  },
  {
   "cell_type": "code",
   "execution_count": 10,
   "id": "78f53d92",
   "metadata": {
    "scrolled": true
   },
   "outputs": [
    {
     "ename": "SyntaxError",
     "evalue": "invalid syntax (<ipython-input-10-49fdc258b2be>, line 2)",
     "output_type": "error",
     "traceback": [
      "\u001b[1;36m  File \u001b[1;32m\"<ipython-input-10-49fdc258b2be>\"\u001b[1;36m, line \u001b[1;32m2\u001b[0m\n\u001b[1;33m    1myvar='error not possible'\u001b[0m\n\u001b[1;37m     ^\u001b[0m\n\u001b[1;31mSyntaxError\u001b[0m\u001b[1;31m:\u001b[0m invalid syntax\n"
     ]
    }
   ],
   "source": [
    "# You cant define Variables like this\n",
    "1myvar = 'error not possible'\n",
    "my@var = 'dont use other than underscore'"
   ]
  },
  {
   "cell_type": "markdown",
   "id": "a53c089d",
   "metadata": {},
   "source": [
    "### Assigning the Value "
   ]
  },
  {
   "cell_type": "code",
   "execution_count": null,
   "id": "b3ab5629",
   "metadata": {},
   "outputs": [],
   "source": [
    "# python reads RHS and assign it to LHS\n",
    "#object oriented language\n",
    "#"
   ]
  },
  {
   "cell_type": "code",
   "execution_count": 11,
   "id": "09ef1d62",
   "metadata": {},
   "outputs": [],
   "source": [
    "a = 10\n",
    "b = 259\n",
    "c = 'string_object'\n",
    "d = ['Digambara', 'Savarkar', 'Sardar Patel', 78, 29.7, True]\n",
    "e = (1, 2, 4.5, True, 'Savarkar', 'Sardar Patel')\n",
    "f = {'set1', (1, 2, 3, 'python')}\n",
    "g = {1: 2, 'hey': 'Datta'}"
   ]
  },
  {
   "cell_type": "code",
   "execution_count": 12,
   "id": "841e7dee",
   "metadata": {},
   "outputs": [
    {
     "name": "stdout",
     "output_type": "stream",
     "text": [
      "New Value of a is : 259\n",
      "New Value of b is : 10\n"
     ]
    }
   ],
   "source": [
    "## swapning the values\n",
    "\n",
    "temp = a\n",
    "a = b\n",
    "b = temp\n",
    "\n",
    "print('New Value of a is :', a)\n",
    "print('New Value of b is :', b)"
   ]
  },
  {
   "cell_type": "code",
   "execution_count": 13,
   "id": "e530f578",
   "metadata": {},
   "outputs": [
    {
     "name": "stdout",
     "output_type": "stream",
     "text": [
      "New Value of a is : i am B\n",
      "New Value of b is : i am A\n"
     ]
    }
   ],
   "source": [
    "# new value assignment to variable - swapping the values\n",
    "a = 'i am A'\n",
    "b = 'i am B'\n",
    "\n",
    "a, b = b, a\n",
    "\n",
    "print('New Value of a is :', a)\n",
    "print('New Value of b is :', b)"
   ]
  },
  {
   "cell_type": "code",
   "execution_count": 14,
   "id": "1653afe8",
   "metadata": {},
   "outputs": [],
   "source": [
    "# no of variables must be equal to no of values while assigning\n",
    "x, y, z = 10, 20, 35"
   ]
  },
  {
   "cell_type": "code",
   "execution_count": 15,
   "id": "0264bf13",
   "metadata": {},
   "outputs": [],
   "source": [
    "x = 15\n",
    "y = 25\n",
    "x, x, y = y + x, y - x, y * x  # 15,15,25 = 40,10,375  0verwrite of x"
   ]
  },
  {
   "cell_type": "code",
   "execution_count": 16,
   "id": "a6162f94",
   "metadata": {},
   "outputs": [],
   "source": [
    "a, b, c = [1, 2, 3]\n",
    "x, y, z = (5, 7, 9)"
   ]
  },
  {
   "cell_type": "code",
   "execution_count": 17,
   "id": "1187449c",
   "metadata": {},
   "outputs": [
    {
     "data": {
      "text/plain": [
       "(1, 2, 3)"
      ]
     },
     "execution_count": 17,
     "metadata": {},
     "output_type": "execute_result"
    }
   ],
   "source": [
    "a, b, c"
   ]
  },
  {
   "cell_type": "code",
   "execution_count": 18,
   "id": "a78bc14e",
   "metadata": {},
   "outputs": [
    {
     "data": {
      "text/plain": [
       "(5, 7, 9)"
      ]
     },
     "execution_count": 18,
     "metadata": {},
     "output_type": "execute_result"
    }
   ],
   "source": [
    "x, y, z"
   ]
  },
  {
   "cell_type": "code",
   "execution_count": 19,
   "id": "47850b86",
   "metadata": {},
   "outputs": [],
   "source": [
    "a, b, c = 'python', 'Java', 'C++'"
   ]
  },
  {
   "cell_type": "code",
   "execution_count": 20,
   "id": "59c7ca45",
   "metadata": {},
   "outputs": [
    {
     "data": {
      "text/plain": [
       "('C++', 'Java', 'python')"
      ]
     },
     "execution_count": 20,
     "metadata": {},
     "output_type": "execute_result"
    }
   ],
   "source": [
    "d, e, f = {'python', 'Java', 'C++'}\n",
    "\n",
    "d, e, f"
   ]
  },
  {
   "cell_type": "code",
   "execution_count": 21,
   "id": "8958e391",
   "metadata": {},
   "outputs": [
    {
     "data": {
      "text/plain": [
       "('k', 'l', 'm')"
      ]
     },
     "execution_count": 21,
     "metadata": {},
     "output_type": "execute_result"
    }
   ],
   "source": [
    "g, h, i = {'k': 1, 'l': 2, 'm': 3}\n",
    "\n",
    "g, h, i"
   ]
  },
  {
   "cell_type": "code",
   "execution_count": null,
   "id": "a0b83137",
   "metadata": {},
   "outputs": [],
   "source": []
  },
  {
   "cell_type": "markdown",
   "id": "886fddb6",
   "metadata": {},
   "source": [
    "## Data Types"
   ]
  },
  {
   "cell_type": "markdown",
   "id": "72b2c91a",
   "metadata": {},
   "source": [
    "### Integer ( Whole Number / Discrete)"
   ]
  },
  {
   "cell_type": "code",
   "execution_count": 22,
   "id": "af3eb566",
   "metadata": {},
   "outputs": [
    {
     "data": {
      "text/plain": [
       "int"
      ]
     },
     "execution_count": 22,
     "metadata": {},
     "output_type": "execute_result"
    }
   ],
   "source": [
    "a = 101\n",
    "type(a)"
   ]
  },
  {
   "cell_type": "code",
   "execution_count": 23,
   "id": "e2ae30f8",
   "metadata": {},
   "outputs": [
    {
     "data": {
      "text/plain": [
       "int"
      ]
     },
     "execution_count": 23,
     "metadata": {},
     "output_type": "execute_result"
    }
   ],
   "source": [
    "b = 10100000000010100117189387\n",
    "type(b)"
   ]
  },
  {
   "cell_type": "markdown",
   "id": "701afa54",
   "metadata": {},
   "source": [
    "### Float ( Real No / Continuous )"
   ]
  },
  {
   "cell_type": "code",
   "execution_count": 24,
   "id": "e06132f8",
   "metadata": {},
   "outputs": [
    {
     "data": {
      "text/plain": [
       "float"
      ]
     },
     "execution_count": 24,
     "metadata": {},
     "output_type": "execute_result"
    }
   ],
   "source": [
    "a = 20.5\n",
    "type(a)"
   ]
  },
  {
   "cell_type": "code",
   "execution_count": 25,
   "id": "86843225",
   "metadata": {},
   "outputs": [
    {
     "data": {
      "text/plain": [
       "float"
      ]
     },
     "execution_count": 25,
     "metadata": {},
     "output_type": "execute_result"
    }
   ],
   "source": [
    "b = 207.7829773\n",
    "type(b)"
   ]
  },
  {
   "cell_type": "code",
   "execution_count": null,
   "id": "3d2373e6",
   "metadata": {},
   "outputs": [],
   "source": []
  },
  {
   "cell_type": "markdown",
   "id": "1433e34b",
   "metadata": {},
   "source": [
    "### Complex"
   ]
  },
  {
   "cell_type": "code",
   "execution_count": 53,
   "id": "1c7213a5",
   "metadata": {},
   "outputs": [],
   "source": [
    "compl = 1 + 5j"
   ]
  },
  {
   "cell_type": "code",
   "execution_count": null,
   "id": "2a5dabe4",
   "metadata": {},
   "outputs": [],
   "source": [
    "# 1+5j -- complex no\n",
    "# 1 real part\n",
    "# imaginary part is shown by j"
   ]
  },
  {
   "cell_type": "code",
   "execution_count": 54,
   "id": "be1f03c0",
   "metadata": {},
   "outputs": [
    {
     "data": {
      "text/plain": [
       "complex"
      ]
     },
     "execution_count": 54,
     "metadata": {},
     "output_type": "execute_result"
    }
   ],
   "source": [
    "type(compl)"
   ]
  },
  {
   "cell_type": "code",
   "execution_count": null,
   "id": "a8f4ce40",
   "metadata": {},
   "outputs": [],
   "source": []
  },
  {
   "cell_type": "markdown",
   "id": "49b9dec6",
   "metadata": {},
   "source": [
    "### String - collection of charachers"
   ]
  },
  {
   "cell_type": "code",
   "execution_count": 26,
   "id": "fa08030a",
   "metadata": {},
   "outputs": [],
   "source": [
    "a = 'ram'\n",
    "b = \"welcome to python course\"\n",
    "c = ''' Hello !! '''\n",
    "\n",
    "d = '''Hey we are checking \n",
    "Multi \n",
    "Line \n",
    "String'''\n",
    "#if it has not been assigned to some variable it would be doc string"
   ]
  },
  {
   "cell_type": "code",
   "execution_count": 27,
   "id": "333ff5c8",
   "metadata": {},
   "outputs": [
    {
     "data": {
      "text/plain": [
       "'ramramram'"
      ]
     },
     "execution_count": 27,
     "metadata": {},
     "output_type": "execute_result"
    }
   ],
   "source": [
    "a * 3"
   ]
  },
  {
   "cell_type": "code",
   "execution_count": 28,
   "id": "0f9efd04",
   "metadata": {},
   "outputs": [
    {
     "data": {
      "text/plain": [
       "'ramwelcome to python course'"
      ]
     },
     "execution_count": 28,
     "metadata": {},
     "output_type": "execute_result"
    }
   ],
   "source": [
    "a + b"
   ]
  },
  {
   "cell_type": "code",
   "execution_count": 29,
   "id": "4fd9cf42",
   "metadata": {},
   "outputs": [
    {
     "ename": "TypeError",
     "evalue": "can't multiply sequence by non-int of type 'str'",
     "output_type": "error",
     "traceback": [
      "\u001b[1;31m---------------------------------------------------------------------------\u001b[0m",
      "\u001b[1;31mTypeError\u001b[0m                                 Traceback (most recent call last)",
      "\u001b[1;32m<ipython-input-29-8ce765dcfa30>\u001b[0m in \u001b[0;36m<module>\u001b[1;34m\u001b[0m\n\u001b[1;32m----> 1\u001b[1;33m \u001b[0ma\u001b[0m\u001b[1;33m*\u001b[0m\u001b[0mb\u001b[0m\u001b[1;33m\u001b[0m\u001b[1;33m\u001b[0m\u001b[0m\n\u001b[0m",
      "\u001b[1;31mTypeError\u001b[0m: can't multiply sequence by non-int of type 'str'"
     ]
    }
   ],
   "source": [
    "# not possible\n",
    "a * b"
   ]
  },
  {
   "cell_type": "code",
   "execution_count": 30,
   "id": "3a9309ca",
   "metadata": {},
   "outputs": [
    {
     "ename": "TypeError",
     "evalue": "unsupported operand type(s) for -: 'str' and 'str'",
     "output_type": "error",
     "traceback": [
      "\u001b[1;31m---------------------------------------------------------------------------\u001b[0m",
      "\u001b[1;31mTypeError\u001b[0m                                 Traceback (most recent call last)",
      "\u001b[1;32m<ipython-input-30-ff9f866f2426>\u001b[0m in \u001b[0;36m<module>\u001b[1;34m\u001b[0m\n\u001b[1;32m----> 1\u001b[1;33m \u001b[0ma\u001b[0m\u001b[1;33m-\u001b[0m\u001b[0ma\u001b[0m\u001b[1;33m\u001b[0m\u001b[1;33m\u001b[0m\u001b[0m\n\u001b[0m",
      "\u001b[1;31mTypeError\u001b[0m: unsupported operand type(s) for -: 'str' and 'str'"
     ]
    }
   ],
   "source": [
    "# not possible\n",
    "a - a"
   ]
  },
  {
   "cell_type": "code",
   "execution_count": 55,
   "id": "d27f756b",
   "metadata": {},
   "outputs": [
    {
     "ename": "NameError",
     "evalue": "name 'a' is not defined",
     "output_type": "error",
     "traceback": [
      "\u001b[1;31m---------------------------------------------------------------------------\u001b[0m",
      "\u001b[1;31mNameError\u001b[0m                                 Traceback (most recent call last)",
      "\u001b[1;32m<ipython-input-55-a9de648269db>\u001b[0m in \u001b[0;36m<module>\u001b[1;34m\u001b[0m\n\u001b[0;32m      1\u001b[0m \u001b[1;31m# not possible\u001b[0m\u001b[1;33m\u001b[0m\u001b[1;33m\u001b[0m\u001b[1;33m\u001b[0m\u001b[0m\n\u001b[1;32m----> 2\u001b[1;33m \u001b[0ma\u001b[0m\u001b[1;33m-\u001b[0m\u001b[1;36m3\u001b[0m\u001b[1;33m\u001b[0m\u001b[1;33m\u001b[0m\u001b[0m\n\u001b[0m",
      "\u001b[1;31mNameError\u001b[0m: name 'a' is not defined"
     ]
    }
   ],
   "source": [
    "# not possible\n",
    "a - 3"
   ]
  },
  {
   "cell_type": "code",
   "execution_count": 31,
   "id": "cd734225",
   "metadata": {},
   "outputs": [
    {
     "data": {
      "text/plain": [
       "''"
      ]
     },
     "execution_count": 31,
     "metadata": {},
     "output_type": "execute_result"
    }
   ],
   "source": [
    "a * 0\n",
    "# null string"
   ]
  },
  {
   "cell_type": "code",
   "execution_count": 32,
   "id": "141301ad",
   "metadata": {},
   "outputs": [
    {
     "data": {
      "text/plain": [
       "''"
      ]
     },
     "execution_count": 32,
     "metadata": {},
     "output_type": "execute_result"
    }
   ],
   "source": [
    "a * -1\n",
    "# null string"
   ]
  },
  {
   "cell_type": "code",
   "execution_count": 33,
   "id": "96f21b25",
   "metadata": {},
   "outputs": [
    {
     "data": {
      "text/plain": [
       "'RAM'"
      ]
     },
     "execution_count": 33,
     "metadata": {},
     "output_type": "execute_result"
    }
   ],
   "source": [
    "a.upper()"
   ]
  },
  {
   "cell_type": "code",
   "execution_count": 34,
   "id": "279b8584",
   "metadata": {},
   "outputs": [
    {
     "data": {
      "text/plain": [
       "'ram'"
      ]
     },
     "execution_count": 34,
     "metadata": {},
     "output_type": "execute_result"
    }
   ],
   "source": [
    "a.lower()"
   ]
  },
  {
   "cell_type": "code",
   "execution_count": 35,
   "id": "f366fba8",
   "metadata": {},
   "outputs": [
    {
     "data": {
      "text/plain": [
       "'Ram'"
      ]
     },
     "execution_count": 35,
     "metadata": {},
     "output_type": "execute_result"
    }
   ],
   "source": [
    "a.capitalize()"
   ]
  },
  {
   "cell_type": "code",
   "execution_count": 36,
   "id": "cf95e47b",
   "metadata": {},
   "outputs": [
    {
     "data": {
      "text/plain": [
       "True"
      ]
     },
     "execution_count": 36,
     "metadata": {},
     "output_type": "execute_result"
    }
   ],
   "source": [
    "# The isalpha() methods returns “True” if all characters in the string are alphabets, Otherwise, It returns “False”\n",
    "a.isalpha()"
   ]
  },
  {
   "cell_type": "code",
   "execution_count": 37,
   "id": "cb3b3f5b",
   "metadata": {},
   "outputs": [
    {
     "data": {
      "text/plain": [
       "False"
      ]
     },
     "execution_count": 37,
     "metadata": {},
     "output_type": "execute_result"
    }
   ],
   "source": [
    "c = 'Class starts at 7 am everyDAY'\n",
    "c.isalpha()"
   ]
  },
  {
   "cell_type": "code",
   "execution_count": 38,
   "id": "8f3094a5",
   "metadata": {},
   "outputs": [
    {
     "data": {
      "text/plain": [
       "True"
      ]
     },
     "execution_count": 38,
     "metadata": {},
     "output_type": "execute_result"
    }
   ],
   "source": [
    "#checks whether all the characters in a given string are alphanumeric or not.\n",
    "#Alphanumeric means a character that is either a letter or a number.\n",
    "\n",
    "a.isalnum()\n",
    "# all are letter"
   ]
  },
  {
   "cell_type": "code",
   "execution_count": 39,
   "id": "3b7a1904",
   "metadata": {},
   "outputs": [
    {
     "data": {
      "text/plain": [
       "False"
      ]
     },
     "execution_count": 39,
     "metadata": {},
     "output_type": "execute_result"
    }
   ],
   "source": [
    "c.isalnum()\n",
    "# combination of letter & number hence false"
   ]
  },
  {
   "cell_type": "code",
   "execution_count": 40,
   "id": "14b55af1",
   "metadata": {},
   "outputs": [
    {
     "data": {
      "text/plain": [
       "False"
      ]
     },
     "execution_count": 40,
     "metadata": {},
     "output_type": "execute_result"
    }
   ],
   "source": [
    "c.isnumeric()"
   ]
  },
  {
   "cell_type": "code",
   "execution_count": 41,
   "id": "0119e5dd",
   "metadata": {},
   "outputs": [
    {
     "data": {
      "text/plain": [
       "True"
      ]
     },
     "execution_count": 41,
     "metadata": {},
     "output_type": "execute_result"
    }
   ],
   "source": [
    "d = '5445'\n",
    "d.isnumeric()"
   ]
  },
  {
   "cell_type": "code",
   "execution_count": 2,
   "id": "53093787",
   "metadata": {},
   "outputs": [
    {
     "name": "stdout",
     "output_type": "stream",
     "text": [
      "1 False\n",
      "2 True\n"
     ]
    }
   ],
   "source": [
    "dig = 'checking digit 123 '\n",
    "dig1 = '431506'\n",
    "\n",
    "print('1', dig.isdigit())\n",
    "print('2', dig1.isdigit())"
   ]
  },
  {
   "cell_type": "code",
   "execution_count": null,
   "id": "6767f37a",
   "metadata": {},
   "outputs": [],
   "source": []
  },
  {
   "cell_type": "code",
   "execution_count": null,
   "id": "4e7df163",
   "metadata": {},
   "outputs": [],
   "source": []
  },
  {
   "cell_type": "code",
   "execution_count": null,
   "id": "ea801120",
   "metadata": {},
   "outputs": [],
   "source": [
    "### String Slicing\n",
    "\n",
    "# in python Indexing always starts from 0 to length-1\n",
    "# [start: end : stepsize]  -- end position is exclusive\n",
    "# by defalut step size is 1\n",
    "# step size 0 - it will be at that position only\n",
    "# step size == positive - moves in right direction  eg. 2,3\n",
    "# step size == negative - moves in left direction  eg.-1,-2\n",
    "# what ever written inside \" \" is considered as character"
   ]
  },
  {
   "cell_type": "code",
   "execution_count": 3,
   "id": "2eac89aa",
   "metadata": {},
   "outputs": [
    {
     "data": {
      "text/plain": [
       "'w'"
      ]
     },
     "execution_count": 3,
     "metadata": {},
     "output_type": "execute_result"
    }
   ],
   "source": [
    "b = \"welcome to python course\"\n",
    "b[0]"
   ]
  },
  {
   "cell_type": "code",
   "execution_count": 4,
   "id": "e6dbb06c",
   "metadata": {},
   "outputs": [
    {
     "ename": "IndexError",
     "evalue": "string index out of range",
     "output_type": "error",
     "traceback": [
      "\u001b[1;31m---------------------------------------------------------------------------\u001b[0m",
      "\u001b[1;31mIndexError\u001b[0m                                Traceback (most recent call last)",
      "\u001b[1;32m<ipython-input-4-ac7668590aaa>\u001b[0m in \u001b[0;36m<module>\u001b[1;34m\u001b[0m\n\u001b[1;32m----> 1\u001b[1;33m \u001b[0mb\u001b[0m\u001b[1;33m[\u001b[0m\u001b[1;36m24\u001b[0m\u001b[1;33m]\u001b[0m\u001b[1;33m\u001b[0m\u001b[1;33m\u001b[0m\u001b[0m\n\u001b[0m",
      "\u001b[1;31mIndexError\u001b[0m: string index out of range"
     ]
    }
   ],
   "source": [
    "# throws error as last index is 23 - after that error but in sclicing automatically takes last\n",
    "b[24]"
   ]
  },
  {
   "cell_type": "code",
   "execution_count": 5,
   "id": "cd77e8ef",
   "metadata": {},
   "outputs": [
    {
     "data": {
      "text/plain": [
       "'welcome to python course'"
      ]
     },
     "execution_count": 5,
     "metadata": {},
     "output_type": "execute_result"
    }
   ],
   "source": [
    "b[:24:]"
   ]
  },
  {
   "cell_type": "code",
   "execution_count": 6,
   "id": "0a7fc09e",
   "metadata": {},
   "outputs": [
    {
     "data": {
      "text/plain": [
       "'welcome to python course'"
      ]
     },
     "execution_count": 6,
     "metadata": {},
     "output_type": "execute_result"
    }
   ],
   "source": [
    "b[:124:]"
   ]
  },
  {
   "cell_type": "code",
   "execution_count": 43,
   "id": "ff336f86",
   "metadata": {},
   "outputs": [
    {
     "data": {
      "text/plain": [
       "'welcome'"
      ]
     },
     "execution_count": 43,
     "metadata": {},
     "output_type": "execute_result"
    }
   ],
   "source": [
    "b[:7:]"
   ]
  },
  {
   "cell_type": "code",
   "execution_count": 44,
   "id": "61da97aa",
   "metadata": {},
   "outputs": [
    {
     "data": {
      "text/plain": [
       "'esruoc nohtyp ot emoclew'"
      ]
     },
     "execution_count": 44,
     "metadata": {},
     "output_type": "execute_result"
    }
   ],
   "source": [
    "b[::-1]"
   ]
  },
  {
   "cell_type": "code",
   "execution_count": 45,
   "id": "365cdd4a",
   "metadata": {},
   "outputs": [
    {
     "data": {
      "text/plain": [
       "'lcome to python cours'"
      ]
     },
     "execution_count": 45,
     "metadata": {},
     "output_type": "execute_result"
    }
   ],
   "source": [
    "b[2:-1:1]"
   ]
  },
  {
   "cell_type": "code",
   "execution_count": 46,
   "id": "082f876a",
   "metadata": {},
   "outputs": [
    {
     "data": {
      "text/plain": [
       "'wceoyocr'"
      ]
     },
     "execution_count": 46,
     "metadata": {},
     "output_type": "execute_result"
    }
   ],
   "source": [
    "b[::3]"
   ]
  },
  {
   "cell_type": "code",
   "execution_count": 47,
   "id": "0ffbea69",
   "metadata": {},
   "outputs": [
    {
     "data": {
      "text/plain": [
       "'nitin'"
      ]
     },
     "execution_count": 47,
     "metadata": {},
     "output_type": "execute_result"
    }
   ],
   "source": [
    "# Palindrom\n",
    "a = \"nitin\"\n",
    "a[::-1]"
   ]
  },
  {
   "cell_type": "code",
   "execution_count": 48,
   "id": "ec252749",
   "metadata": {},
   "outputs": [
    {
     "data": {
      "text/plain": [
       "True"
      ]
     },
     "execution_count": 48,
     "metadata": {},
     "output_type": "execute_result"
    }
   ],
   "source": [
    "a == a[::-1]"
   ]
  },
  {
   "cell_type": "code",
   "execution_count": null,
   "id": "dcdf187b",
   "metadata": {},
   "outputs": [],
   "source": []
  },
  {
   "cell_type": "code",
   "execution_count": 49,
   "id": "edccb7f3",
   "metadata": {},
   "outputs": [
    {
     "data": {
      "text/plain": [
       "24"
      ]
     },
     "execution_count": 49,
     "metadata": {},
     "output_type": "execute_result"
    }
   ],
   "source": [
    "# measures the characters inside the string\n",
    "len(b)"
   ]
  },
  {
   "cell_type": "code",
   "execution_count": null,
   "id": "d6bcbe72",
   "metadata": {},
   "outputs": [],
   "source": [
    "# ways to find the Index of character\n",
    "\n",
    "# Find - if present returns the index no & if not returns -1\n",
    "# string.find(letter,start,end) - by default start:0 & end : -1 \n",
    "\n",
    "# index -if present returns the index no & if not returns - error\n",
    "# index is used to find out multiple / duplicate occurance\n"
   ]
  },
  {
   "cell_type": "code",
   "execution_count": 50,
   "id": "f7997a22",
   "metadata": {},
   "outputs": [
    {
     "data": {
      "text/plain": [
       "4"
      ]
     },
     "execution_count": 50,
     "metadata": {},
     "output_type": "execute_result"
    }
   ],
   "source": [
    "b = \"welcome to python course\"\n",
    "\n",
    "b.find('o')"
   ]
  },
  {
   "cell_type": "code",
   "execution_count": 51,
   "id": "a9de76ae",
   "metadata": {},
   "outputs": [
    {
     "data": {
      "text/plain": [
       "9"
      ]
     },
     "execution_count": 51,
     "metadata": {},
     "output_type": "execute_result"
    }
   ],
   "source": [
    "# 2nd occurance but we should know the start & stop\n",
    "b.find('o', 5, -1)"
   ]
  },
  {
   "cell_type": "code",
   "execution_count": 52,
   "id": "b09e3b01",
   "metadata": {},
   "outputs": [
    {
     "data": {
      "text/plain": [
       "1"
      ]
     },
     "execution_count": 52,
     "metadata": {},
     "output_type": "execute_result"
    }
   ],
   "source": [
    "b.index('e')"
   ]
  },
  {
   "cell_type": "code",
   "execution_count": 53,
   "id": "db495e16",
   "metadata": {},
   "outputs": [
    {
     "data": {
      "text/plain": [
       "6"
      ]
     },
     "execution_count": 53,
     "metadata": {},
     "output_type": "execute_result"
    }
   ],
   "source": [
    "# 2nd occurance\n",
    "b.index('e', 2)"
   ]
  },
  {
   "cell_type": "code",
   "execution_count": 54,
   "id": "a2af12fe",
   "metadata": {},
   "outputs": [
    {
     "ename": "ValueError",
     "evalue": "substring not found",
     "output_type": "error",
     "traceback": [
      "\u001b[1;31m---------------------------------------------------------------------------\u001b[0m",
      "\u001b[1;31mValueError\u001b[0m                                Traceback (most recent call last)",
      "\u001b[1;32m<ipython-input-54-9c1b21122b18>\u001b[0m in \u001b[0;36m<module>\u001b[1;34m\u001b[0m\n\u001b[0;32m      1\u001b[0m \u001b[1;31m# a is not present - returns error\u001b[0m\u001b[1;33m\u001b[0m\u001b[1;33m\u001b[0m\u001b[1;33m\u001b[0m\u001b[0m\n\u001b[1;32m----> 2\u001b[1;33m \u001b[0mb\u001b[0m\u001b[1;33m.\u001b[0m\u001b[0mindex\u001b[0m\u001b[1;33m(\u001b[0m\u001b[1;34m'a'\u001b[0m\u001b[1;33m)\u001b[0m\u001b[1;33m\u001b[0m\u001b[1;33m\u001b[0m\u001b[0m\n\u001b[0m",
      "\u001b[1;31mValueError\u001b[0m: substring not found"
     ]
    }
   ],
   "source": [
    "# a is not present - returns error\n",
    "b.index('a')"
   ]
  },
  {
   "cell_type": "code",
   "execution_count": 55,
   "id": "3a8719e3",
   "metadata": {},
   "outputs": [
    {
     "data": {
      "text/plain": [
       "-1"
      ]
     },
     "execution_count": 55,
     "metadata": {},
     "output_type": "execute_result"
    }
   ],
   "source": [
    "# a is not present - returns -1\n",
    "b.find('a')"
   ]
  },
  {
   "cell_type": "code",
   "execution_count": null,
   "id": "bff30159",
   "metadata": {},
   "outputs": [],
   "source": [
    "# use find for 1st occurance for other use Index"
   ]
  },
  {
   "cell_type": "code",
   "execution_count": 56,
   "id": "cafefaf0",
   "metadata": {},
   "outputs": [
    {
     "data": {
      "text/plain": [
       "3"
      ]
     },
     "execution_count": 56,
     "metadata": {},
     "output_type": "execute_result"
    }
   ],
   "source": [
    "# count measures the frequency\n",
    "\n",
    "b.count('e')"
   ]
  },
  {
   "cell_type": "code",
   "execution_count": 58,
   "id": "02ed2ca4",
   "metadata": {},
   "outputs": [
    {
     "ename": "AttributeError",
     "evalue": "'str' object has no attribute 'copy'",
     "output_type": "error",
     "traceback": [
      "\u001b[1;31m---------------------------------------------------------------------------\u001b[0m",
      "\u001b[1;31mAttributeError\u001b[0m                            Traceback (most recent call last)",
      "\u001b[1;32m<ipython-input-58-a582a6afaa19>\u001b[0m in \u001b[0;36m<module>\u001b[1;34m\u001b[0m\n\u001b[0;32m      1\u001b[0m \u001b[0ma\u001b[0m\u001b[1;33m=\u001b[0m\u001b[1;34m'ram'\u001b[0m\u001b[1;33m\u001b[0m\u001b[1;33m\u001b[0m\u001b[0m\n\u001b[1;32m----> 2\u001b[1;33m \u001b[0mb\u001b[0m\u001b[1;33m=\u001b[0m\u001b[0ma\u001b[0m\u001b[1;33m.\u001b[0m\u001b[0mcopy\u001b[0m\u001b[1;33m(\u001b[0m\u001b[1;33m)\u001b[0m\u001b[1;33m\u001b[0m\u001b[1;33m\u001b[0m\u001b[0m\n\u001b[0m\u001b[0;32m      3\u001b[0m \u001b[0mb\u001b[0m\u001b[1;33m\u001b[0m\u001b[1;33m\u001b[0m\u001b[0m\n",
      "\u001b[1;31mAttributeError\u001b[0m: 'str' object has no attribute 'copy'"
     ]
    }
   ],
   "source": [
    "# cant copy string\n",
    "a = 'ram'\n",
    "b = a.copy()\n",
    "b"
   ]
  },
  {
   "cell_type": "code",
   "execution_count": null,
   "id": "2d996b36",
   "metadata": {},
   "outputs": [],
   "source": []
  },
  {
   "cell_type": "code",
   "execution_count": null,
   "id": "059372c3",
   "metadata": {},
   "outputs": [],
   "source": []
  },
  {
   "cell_type": "code",
   "execution_count": 57,
   "id": "2f9d2d06",
   "metadata": {},
   "outputs": [
    {
     "name": "stdout",
     "output_type": "stream",
     "text": [
      "hello, we will learn \"Python\" in this class\n",
      "hello, we will learn 'Python' in this class\n",
      "I'm a \"Tech Geek\"\n"
     ]
    }
   ],
   "source": [
    "#escape sequence\n",
    "\n",
    "p = 'hello, we will learn \"Python\" in this class'\n",
    "\n",
    "q = \"hello, we will learn 'Python' in this class\"\n",
    "\n",
    "string = '''I'm a \"Tech Geek\"'''\n",
    "\n",
    "print(p)\n",
    "print(q)\n",
    "print(string)"
   ]
  },
  {
   "cell_type": "code",
   "execution_count": 58,
   "id": "cf3dde84",
   "metadata": {},
   "outputs": [
    {
     "data": {
      "text/plain": [
       "False"
      ]
     },
     "execution_count": 58,
     "metadata": {},
     "output_type": "execute_result"
    }
   ],
   "source": [
    "p == q"
   ]
  },
  {
   "cell_type": "code",
   "execution_count": 59,
   "id": "1d163d3f",
   "metadata": {},
   "outputs": [
    {
     "data": {
      "text/plain": [
       "False"
      ]
     },
     "execution_count": 59,
     "metadata": {},
     "output_type": "execute_result"
    }
   ],
   "source": [
    "# what ever written inside \" \" is considered as character\n",
    "\"'\" == '\"'"
   ]
  },
  {
   "cell_type": "code",
   "execution_count": 60,
   "id": "fdd480fc",
   "metadata": {},
   "outputs": [],
   "source": [
    "a = 'Ram\\'s father is very Brave'"
   ]
  },
  {
   "cell_type": "code",
   "execution_count": 61,
   "id": "a0626b61",
   "metadata": {},
   "outputs": [
    {
     "data": {
      "text/plain": [
       "'Harry is good. \\nHe is very good.\\nhe is very helpful'"
      ]
     },
     "execution_count": 61,
     "metadata": {},
     "output_type": "execute_result"
    }
   ],
   "source": [
    "#write in new line\n",
    "story = '''Harry is good. \n",
    "He is very good.\n",
    "he is very helpful'''\n",
    "story"
   ]
  },
  {
   "cell_type": "code",
   "execution_count": 62,
   "id": "d4e8da99",
   "metadata": {},
   "outputs": [
    {
     "data": {
      "text/plain": [
       "' also used to write the comment if not assigned (no LHS)'"
      ]
     },
     "execution_count": 62,
     "metadata": {},
     "output_type": "execute_result"
    }
   ],
   "source": [
    "# write inside fun etc - DOC STRING - comment\n",
    "''' also used to write the comment if not assigned (no LHS)'''"
   ]
  },
  {
   "cell_type": "code",
   "execution_count": 63,
   "id": "99db1694",
   "metadata": {},
   "outputs": [
    {
     "data": {
      "text/plain": [
       "'Harry is good.He is very good'"
      ]
     },
     "execution_count": 63,
     "metadata": {},
     "output_type": "execute_result"
    }
   ],
   "source": [
    "story = 'Harry is good.\\\n",
    "He is very good'\n",
    "\n",
    "story"
   ]
  },
  {
   "cell_type": "markdown",
   "id": "c1d07c2e",
   "metadata": {},
   "source": [
    "#### Misc. strings\n",
    "\n",
    "* r- Raw String. Treat the string as it is. Don't escape any character\n",
    "* USED TO REDUCE THE ESCAPES SEQUENCE MULTIPLE TIME"
   ]
  },
  {
   "cell_type": "code",
   "execution_count": 19,
   "id": "174a2777",
   "metadata": {},
   "outputs": [
    {
     "ename": "SyntaxError",
     "evalue": "(unicode error) 'unicodeescape' codec can't decode bytes in position 13-14: truncated \\uXXXX escape (<ipython-input-19-d28fabe5340b>, line 1)",
     "output_type": "error",
     "traceback": [
      "\u001b[1;36m  File \u001b[1;32m\"<ipython-input-19-d28fabe5340b>\"\u001b[1;36m, line \u001b[1;32m1\u001b[0m\n\u001b[1;33m    location= \" C:\\newfolder\\users\\training\\python\\test\"\u001b[0m\n\u001b[1;37m              ^\u001b[0m\n\u001b[1;31mSyntaxError\u001b[0m\u001b[1;31m:\u001b[0m (unicode error) 'unicodeescape' codec can't decode bytes in position 13-14: truncated \\uXXXX escape\n"
     ]
    }
   ],
   "source": [
    "location = \" C:\\newfolder\\users\\training\\python\\test\"\n",
    "location"
   ]
  },
  {
   "cell_type": "code",
   "execution_count": 20,
   "id": "6e08c365",
   "metadata": {},
   "outputs": [
    {
     "data": {
      "text/plain": [
       "' C:\\\\newfolder\\\\users\\\\training\\\\python\\\\test'"
      ]
     },
     "execution_count": 20,
     "metadata": {},
     "output_type": "execute_result"
    }
   ],
   "source": [
    "# mention escape character at each point\n",
    "location = \" C:\\\\newfolder\\\\users\\\\training\\\\python\\\\test\"\n",
    "location"
   ]
  },
  {
   "cell_type": "code",
   "execution_count": 18,
   "id": "9e2f9f6e",
   "metadata": {},
   "outputs": [
    {
     "data": {
      "text/plain": [
       "' C:\\\\newfolder\\\\users\\\\training\\\\python\\\\test'"
      ]
     },
     "execution_count": 18,
     "metadata": {},
     "output_type": "execute_result"
    }
   ],
   "source": [
    "# Raw String\n",
    "location = r\" C:\\newfolder\\users\\training\\python\\test\"\n",
    "location"
   ]
  },
  {
   "cell_type": "code",
   "execution_count": null,
   "id": "46c44369",
   "metadata": {},
   "outputs": [],
   "source": []
  },
  {
   "cell_type": "code",
   "execution_count": null,
   "id": "eecc0897",
   "metadata": {},
   "outputs": [],
   "source": []
  },
  {
   "cell_type": "code",
   "execution_count": null,
   "id": "9d2402fd",
   "metadata": {},
   "outputs": [],
   "source": [
    "#The string strip() function by default removes the leading and trailing white space characters from the end of a string.\n",
    "#We can use the optional character argument if we want to remove a specific character from the start and end of a string.\n",
    "\n",
    "## remove white spaces (if characters not mentioned) from\n",
    "#strip() -- both ends of a string\n",
    "#lstrip() -- the beginning only  (left)\n",
    "# rstrip() -- the end only. (right)"
   ]
  },
  {
   "cell_type": "code",
   "execution_count": 64,
   "id": "8c6eb823",
   "metadata": {},
   "outputs": [
    {
     "data": {
      "text/plain": [
       "'white space before & after'"
      ]
     },
     "execution_count": 64,
     "metadata": {},
     "output_type": "execute_result"
    }
   ],
   "source": [
    "s = ' white space before & after   '\n",
    "s.strip()"
   ]
  },
  {
   "cell_type": "code",
   "execution_count": 65,
   "id": "9ec06146",
   "metadata": {},
   "outputs": [
    {
     "data": {
      "text/plain": [
       "' specific character now ## with space at end  '"
      ]
     },
     "execution_count": 65,
     "metadata": {},
     "output_type": "execute_result"
    }
   ],
   "source": [
    "# does not remove mid #, only start & end -> takes one character at a time\n",
    "\n",
    "s = '## specific character now ## with space at end  '\n",
    "s.strip('#')"
   ]
  },
  {
   "cell_type": "code",
   "execution_count": 66,
   "id": "411d2841",
   "metadata": {},
   "outputs": [
    {
     "ename": "TypeError",
     "evalue": "strip expected at most 1 argument, got 2",
     "output_type": "error",
     "traceback": [
      "\u001b[1;31m---------------------------------------------------------------------------\u001b[0m",
      "\u001b[1;31mTypeError\u001b[0m                                 Traceback (most recent call last)",
      "\u001b[1;32m<ipython-input-66-2efd851794f0>\u001b[0m in \u001b[0;36m<module>\u001b[1;34m\u001b[0m\n\u001b[0;32m      1\u001b[0m \u001b[0ms\u001b[0m\u001b[1;33m=\u001b[0m\u001b[1;34m'## specific character now ## with space at end  '\u001b[0m\u001b[1;33m\u001b[0m\u001b[1;33m\u001b[0m\u001b[0m\n\u001b[1;32m----> 2\u001b[1;33m \u001b[0ms\u001b[0m\u001b[1;33m.\u001b[0m\u001b[0mstrip\u001b[0m\u001b[1;33m(\u001b[0m\u001b[1;34m'#'\u001b[0m\u001b[1;33m,\u001b[0m\u001b[1;34m''\u001b[0m\u001b[1;33m)\u001b[0m\u001b[1;33m\u001b[0m\u001b[1;33m\u001b[0m\u001b[0m\n\u001b[0m\u001b[0;32m      3\u001b[0m \u001b[1;33m\u001b[0m\u001b[0m\n\u001b[0;32m      4\u001b[0m \u001b[1;31m# cant remove both at a time\u001b[0m\u001b[1;33m\u001b[0m\u001b[1;33m\u001b[0m\u001b[1;33m\u001b[0m\u001b[0m\n",
      "\u001b[1;31mTypeError\u001b[0m: strip expected at most 1 argument, got 2"
     ]
    }
   ],
   "source": [
    "s = '## specific character now ## with space at end  '\n",
    "s.strip('#', '')\n",
    "\n",
    "# cant remove both at a time"
   ]
  },
  {
   "cell_type": "code",
   "execution_count": 67,
   "id": "14f2d575",
   "metadata": {},
   "outputs": [
    {
     "data": {
      "text/plain": [
       "'## specific character now ## with space at end'"
      ]
     },
     "execution_count": 67,
     "metadata": {},
     "output_type": "execute_result"
    }
   ],
   "source": [
    "# original string remains unmodified\n",
    "s.strip()"
   ]
  },
  {
   "cell_type": "code",
   "execution_count": 68,
   "id": "140fa3d1",
   "metadata": {},
   "outputs": [
    {
     "data": {
      "text/plain": [
       "'white space before & after   '"
      ]
     },
     "execution_count": 68,
     "metadata": {},
     "output_type": "execute_result"
    }
   ],
   "source": [
    "n = ' white space before & after   '\n",
    "n.lstrip()"
   ]
  },
  {
   "cell_type": "code",
   "execution_count": 69,
   "id": "da137585",
   "metadata": {},
   "outputs": [
    {
     "data": {
      "text/plain": [
       "' white space before & after'"
      ]
     },
     "execution_count": 69,
     "metadata": {},
     "output_type": "execute_result"
    }
   ],
   "source": [
    "n = ' white space before & after   '\n",
    "n.rstrip()"
   ]
  },
  {
   "cell_type": "code",
   "execution_count": null,
   "id": "c80e321c",
   "metadata": {},
   "outputs": [],
   "source": []
  },
  {
   "cell_type": "code",
   "execution_count": null,
   "id": "43636682",
   "metadata": {},
   "outputs": [],
   "source": [
    "############### string formating for print ###############"
   ]
  },
  {
   "cell_type": "code",
   "execution_count": 70,
   "id": "f8151a8a",
   "metadata": {},
   "outputs": [],
   "source": [
    "a = '{}{}{}'.format('name', 'age', 'town')"
   ]
  },
  {
   "cell_type": "code",
   "execution_count": 71,
   "id": "d5352905",
   "metadata": {},
   "outputs": [
    {
     "data": {
      "text/plain": [
       "'nameagetown'"
      ]
     },
     "execution_count": 71,
     "metadata": {},
     "output_type": "execute_result"
    }
   ],
   "source": [
    "a"
   ]
  },
  {
   "cell_type": "code",
   "execution_count": 72,
   "id": "d4eb8fba",
   "metadata": {},
   "outputs": [
    {
     "data": {
      "text/plain": [
       "'age is 25 & Pankaj is my name, Pathri is my hometown'"
      ]
     },
     "execution_count": 72,
     "metadata": {},
     "output_type": "execute_result"
    }
   ],
   "source": [
    "# index \n",
    "a = '{1} is 25 & Pankaj is my {0}, Pathri is my home{2}'.format('name', 'age', 'town')\n",
    "a"
   ]
  },
  {
   "cell_type": "code",
   "execution_count": 73,
   "id": "a272b6c7",
   "metadata": {},
   "outputs": [
    {
     "data": {
      "text/plain": [
       "'Entire Life for  Tech Geek'"
      ]
     },
     "execution_count": 73,
     "metadata": {},
     "output_type": "execute_result"
    }
   ],
   "source": [
    "# Keyword Formatting\n",
    "String1 = \"{l} {f} {g}\".format(g='Tech Geek', f='for ', l='Entire Life')\n",
    "String1"
   ]
  },
  {
   "cell_type": "code",
   "execution_count": null,
   "id": "46b04818",
   "metadata": {},
   "outputs": [],
   "source": []
  },
  {
   "cell_type": "code",
   "execution_count": 74,
   "id": "2cd690eb",
   "metadata": {},
   "outputs": [],
   "source": [
    "del String1"
   ]
  },
  {
   "cell_type": "code",
   "execution_count": 75,
   "id": "4288edd5",
   "metadata": {},
   "outputs": [
    {
     "ename": "NameError",
     "evalue": "name 'String1' is not defined",
     "output_type": "error",
     "traceback": [
      "\u001b[1;31m---------------------------------------------------------------------------\u001b[0m",
      "\u001b[1;31mNameError\u001b[0m                                 Traceback (most recent call last)",
      "\u001b[1;32m<ipython-input-75-9d9c41e98307>\u001b[0m in \u001b[0;36m<module>\u001b[1;34m\u001b[0m\n\u001b[0;32m      1\u001b[0m \u001b[1;31m# now if you print String1 u will get error\u001b[0m\u001b[1;33m\u001b[0m\u001b[1;33m\u001b[0m\u001b[1;33m\u001b[0m\u001b[0m\n\u001b[0;32m      2\u001b[0m \u001b[1;33m\u001b[0m\u001b[0m\n\u001b[1;32m----> 3\u001b[1;33m \u001b[0mString1\u001b[0m\u001b[1;33m\u001b[0m\u001b[1;33m\u001b[0m\u001b[0m\n\u001b[0m",
      "\u001b[1;31mNameError\u001b[0m: name 'String1' is not defined"
     ]
    }
   ],
   "source": [
    "# now if you print String1 u will get error\n",
    "\n",
    "String1"
   ]
  },
  {
   "cell_type": "code",
   "execution_count": 76,
   "id": "d4907bc3",
   "metadata": {},
   "outputs": [
    {
     "data": {
      "text/plain": [
       "'I like playing Hockey'"
      ]
     },
     "execution_count": 76,
     "metadata": {},
     "output_type": "execute_result"
    }
   ],
   "source": [
    "# replace(old,new)\n",
    "\n",
    "s = 'I like playing Cricket'\n",
    "\n",
    "s.replace(\"Cricket\", 'Hockey')"
   ]
  },
  {
   "cell_type": "code",
   "execution_count": null,
   "id": "44e364fb",
   "metadata": {},
   "outputs": [],
   "source": [
    "#startswith & Endswith - True or False"
   ]
  },
  {
   "cell_type": "code",
   "execution_count": 77,
   "id": "142e9de1",
   "metadata": {},
   "outputs": [
    {
     "data": {
      "text/plain": [
       "True"
      ]
     },
     "execution_count": 77,
     "metadata": {},
     "output_type": "execute_result"
    }
   ],
   "source": [
    "a = 'Harry wants Chocolates'\n",
    "\n",
    "a.startswith('H')"
   ]
  },
  {
   "cell_type": "code",
   "execution_count": 78,
   "id": "1ce1b5a6",
   "metadata": {},
   "outputs": [
    {
     "data": {
      "text/plain": [
       "True"
      ]
     },
     "execution_count": 78,
     "metadata": {},
     "output_type": "execute_result"
    }
   ],
   "source": [
    "a.endswith('s')"
   ]
  },
  {
   "cell_type": "code",
   "execution_count": null,
   "id": "596ed3e0",
   "metadata": {},
   "outputs": [],
   "source": []
  },
  {
   "cell_type": "code",
   "execution_count": 79,
   "id": "5fa902d2",
   "metadata": {},
   "outputs": [
    {
     "data": {
      "text/plain": [
       "[(0, 'P'), (1, 'a'), (2, 'n'), (3, 'k'), (4, 'a'), (5, 'j')]"
      ]
     },
     "execution_count": 79,
     "metadata": {},
     "output_type": "execute_result"
    }
   ],
   "source": [
    "# enumerate - adds counter\n",
    "\n",
    "string1 = 'Pankaj'\n",
    "\n",
    "list(enumerate(string1))\n",
    "\n",
    "# for string - (counter,character)"
   ]
  },
  {
   "cell_type": "code",
   "execution_count": 80,
   "id": "e9934d6b",
   "metadata": {},
   "outputs": [
    {
     "data": {
      "text/plain": [
       "['Line1-abcd', 'line2-efgh', 'line3ijkl', 'line4mnop']"
      ]
     },
     "execution_count": 80,
     "metadata": {},
     "output_type": "execute_result"
    }
   ],
   "source": [
    "#SPLIT the string - converts in list\n",
    "\n",
    "pank = 'Line1-abcd\\nline2-efgh\\nline3ijkl\\nline4mnop'\n",
    "\n",
    "pank.split('\\n')"
   ]
  },
  {
   "cell_type": "code",
   "execution_count": 81,
   "id": "a96816a6",
   "metadata": {},
   "outputs": [
    {
     "name": "stdout",
     "output_type": "stream",
     "text": [
      "200\n",
      "150\n"
     ]
    }
   ],
   "source": [
    "# SPlit\n",
    "x, y = \"200,150\".split(',')\n",
    "print(x)\n",
    "print(y)"
   ]
  },
  {
   "cell_type": "code",
   "execution_count": null,
   "id": "2e49fcfc",
   "metadata": {},
   "outputs": [],
   "source": [
    "#join - conversion of list element to string"
   ]
  },
  {
   "cell_type": "markdown",
   "id": "725b3d25",
   "metadata": {},
   "source": [
    "## Lists\n",
    "* Ordered Collection of items/elements/objects\n",
    "* Syntax: [ ]\n",
    "* MUTABLE\n",
    "*list contais all the data types - int,float,string,complex,list,tuple,set,dict"
   ]
  },
  {
   "cell_type": "code",
   "execution_count": 82,
   "id": "98b27058",
   "metadata": {},
   "outputs": [],
   "source": [
    "l = [101, 205.27, True, False, ['hey', 11, False], 'Datta', 1 + 5j]"
   ]
  },
  {
   "cell_type": "code",
   "execution_count": 83,
   "id": "da12ad01",
   "metadata": {},
   "outputs": [],
   "source": [
    "# Tuple inside list\n",
    "lt = [101, 205.27, True, False, ['hey', 11, False], 'Datta', 1 + 5j, (5, 6, 7)]"
   ]
  },
  {
   "cell_type": "code",
   "execution_count": 84,
   "id": "8afd8ecf",
   "metadata": {},
   "outputs": [],
   "source": [
    "lt = [(5, 6, 7), {3, 2, 3}]"
   ]
  },
  {
   "cell_type": "code",
   "execution_count": 85,
   "id": "7031d60a",
   "metadata": {},
   "outputs": [],
   "source": [
    "new = [(5, 6, 7), {3, 2, 3}, {'key': 'Value', 'key2': 'Value2'}]"
   ]
  },
  {
   "cell_type": "code",
   "execution_count": 86,
   "id": "f385e155",
   "metadata": {},
   "outputs": [
    {
     "data": {
      "text/plain": [
       "[1, 2, 3, 1, 2, 3]"
      ]
     },
     "execution_count": 86,
     "metadata": {},
     "output_type": "execute_result"
    }
   ],
   "source": [
    "b = [1, 2, 3]\n",
    "b + b"
   ]
  },
  {
   "cell_type": "code",
   "execution_count": 87,
   "id": "2cdd1869",
   "metadata": {},
   "outputs": [
    {
     "data": {
      "text/plain": [
       "[1, 2, 3, 1, 2, 3, 1, 2, 3]"
      ]
     },
     "execution_count": 87,
     "metadata": {},
     "output_type": "execute_result"
    }
   ],
   "source": [
    "b * 3"
   ]
  },
  {
   "cell_type": "code",
   "execution_count": 88,
   "id": "42bed715",
   "metadata": {},
   "outputs": [
    {
     "data": {
      "text/plain": [
       "[]"
      ]
     },
     "execution_count": 88,
     "metadata": {},
     "output_type": "execute_result"
    }
   ],
   "source": [
    "# gets null List\n",
    "b * 0"
   ]
  },
  {
   "cell_type": "code",
   "execution_count": 89,
   "id": "0c341226",
   "metadata": {},
   "outputs": [
    {
     "data": {
      "text/plain": [
       "[]"
      ]
     },
     "execution_count": 89,
     "metadata": {},
     "output_type": "execute_result"
    }
   ],
   "source": [
    "# gets null List\n",
    "b * -1"
   ]
  },
  {
   "cell_type": "code",
   "execution_count": 90,
   "id": "5c4347f8",
   "metadata": {},
   "outputs": [
    {
     "ename": "TypeError",
     "evalue": "unsupported operand type(s) for -: 'list' and 'list'",
     "output_type": "error",
     "traceback": [
      "\u001b[1;31m---------------------------------------------------------------------------\u001b[0m",
      "\u001b[1;31mTypeError\u001b[0m                                 Traceback (most recent call last)",
      "\u001b[1;32m<ipython-input-90-fcc853f58c87>\u001b[0m in \u001b[0;36m<module>\u001b[1;34m\u001b[0m\n\u001b[1;32m----> 1\u001b[1;33m \u001b[0mb\u001b[0m\u001b[1;33m-\u001b[0m\u001b[0mb\u001b[0m\u001b[1;33m\u001b[0m\u001b[1;33m\u001b[0m\u001b[0m\n\u001b[0m",
      "\u001b[1;31mTypeError\u001b[0m: unsupported operand type(s) for -: 'list' and 'list'"
     ]
    }
   ],
   "source": [
    "# not possible\n",
    "b - b"
   ]
  },
  {
   "cell_type": "code",
   "execution_count": 91,
   "id": "66b21960",
   "metadata": {
    "scrolled": true
   },
   "outputs": [
    {
     "ename": "TypeError",
     "evalue": "can't multiply sequence by non-int of type 'list'",
     "output_type": "error",
     "traceback": [
      "\u001b[1;31m---------------------------------------------------------------------------\u001b[0m",
      "\u001b[1;31mTypeError\u001b[0m                                 Traceback (most recent call last)",
      "\u001b[1;32m<ipython-input-91-fff4d7e1ed39>\u001b[0m in \u001b[0;36m<module>\u001b[1;34m\u001b[0m\n\u001b[0;32m      1\u001b[0m \u001b[1;31m# not possible\u001b[0m\u001b[1;33m\u001b[0m\u001b[1;33m\u001b[0m\u001b[1;33m\u001b[0m\u001b[0m\n\u001b[1;32m----> 2\u001b[1;33m \u001b[0mb\u001b[0m\u001b[1;33m*\u001b[0m\u001b[0mb\u001b[0m\u001b[1;33m\u001b[0m\u001b[1;33m\u001b[0m\u001b[0m\n\u001b[0m",
      "\u001b[1;31mTypeError\u001b[0m: can't multiply sequence by non-int of type 'list'"
     ]
    }
   ],
   "source": [
    "# not possible\n",
    "b * b"
   ]
  },
  {
   "cell_type": "code",
   "execution_count": null,
   "id": "7097e9f0",
   "metadata": {},
   "outputs": [],
   "source": []
  },
  {
   "cell_type": "code",
   "execution_count": null,
   "id": "630d7082",
   "metadata": {},
   "outputs": [],
   "source": [
    "### List Methods\n",
    "\n",
    "#To ADD to List\n",
    "# append - adds at last index  - Considered as single element - len is same\n",
    "# insert - adds at given index  - Considered as single element - len is same ( index, Value)\n",
    "# extend - adds at last index but as individual character - len inc by that added obj len\n"
   ]
  },
  {
   "cell_type": "code",
   "execution_count": 92,
   "id": "80decc22",
   "metadata": {},
   "outputs": [],
   "source": [
    "c = [12, 3, 4]\n",
    "c.append(['str', 77])"
   ]
  },
  {
   "cell_type": "code",
   "execution_count": 93,
   "id": "186cfe4c",
   "metadata": {},
   "outputs": [
    {
     "data": {
      "text/plain": [
       "[12, 3, 4, ['str', 77]]"
      ]
     },
     "execution_count": 93,
     "metadata": {},
     "output_type": "execute_result"
    }
   ],
   "source": [
    "c"
   ]
  },
  {
   "cell_type": "code",
   "execution_count": 94,
   "id": "e7a38542",
   "metadata": {},
   "outputs": [
    {
     "data": {
      "text/plain": [
       "[12, 3, 4, ['str', 77], [...]]"
      ]
     },
     "execution_count": 94,
     "metadata": {},
     "output_type": "execute_result"
    }
   ],
   "source": [
    "# infinite loop\n",
    "c.append(c)\n",
    "c"
   ]
  },
  {
   "cell_type": "code",
   "execution_count": 95,
   "id": "c6134145",
   "metadata": {},
   "outputs": [
    {
     "data": {
      "text/plain": [
       "['str', 77]"
      ]
     },
     "execution_count": 95,
     "metadata": {},
     "output_type": "execute_result"
    }
   ],
   "source": [
    "c[3]"
   ]
  },
  {
   "cell_type": "code",
   "execution_count": 96,
   "id": "54f8755c",
   "metadata": {},
   "outputs": [
    {
     "data": {
      "text/plain": [
       "[12, 3, 4, ['str', 77], [...]]"
      ]
     },
     "execution_count": 96,
     "metadata": {},
     "output_type": "execute_result"
    }
   ],
   "source": [
    "c[4]"
   ]
  },
  {
   "cell_type": "code",
   "execution_count": 97,
   "id": "cbfc0a82",
   "metadata": {},
   "outputs": [
    {
     "ename": "IndexError",
     "evalue": "list index out of range",
     "output_type": "error",
     "traceback": [
      "\u001b[1;31m---------------------------------------------------------------------------\u001b[0m",
      "\u001b[1;31mIndexError\u001b[0m                                Traceback (most recent call last)",
      "\u001b[1;32m<ipython-input-97-be899ebb4c4a>\u001b[0m in \u001b[0;36m<module>\u001b[1;34m\u001b[0m\n\u001b[0;32m      1\u001b[0m \u001b[1;31m#inside the infinite loop  -- loop is cont in at index 4\u001b[0m\u001b[1;33m\u001b[0m\u001b[1;33m\u001b[0m\u001b[1;33m\u001b[0m\u001b[0m\n\u001b[1;32m----> 2\u001b[1;33m \u001b[0mc\u001b[0m\u001b[1;33m[\u001b[0m\u001b[1;36m5\u001b[0m\u001b[1;33m]\u001b[0m\u001b[1;33m\u001b[0m\u001b[1;33m\u001b[0m\u001b[0m\n\u001b[0m",
      "\u001b[1;31mIndexError\u001b[0m: list index out of range"
     ]
    }
   ],
   "source": [
    "#inside the infinite loop  -- loop is cont in at index 4\n",
    "c[5]"
   ]
  },
  {
   "cell_type": "code",
   "execution_count": 98,
   "id": "e9a43207",
   "metadata": {},
   "outputs": [
    {
     "data": {
      "text/plain": [
       "3"
      ]
     },
     "execution_count": 98,
     "metadata": {},
     "output_type": "execute_result"
    }
   ],
   "source": [
    "#inside the infinite loop\n",
    "c[4][1]"
   ]
  },
  {
   "cell_type": "code",
   "execution_count": 99,
   "id": "e3164782",
   "metadata": {},
   "outputs": [
    {
     "data": {
      "text/plain": [
       "['new', 12, 3, 4, ['str', 77], [...]]"
      ]
     },
     "execution_count": 99,
     "metadata": {},
     "output_type": "execute_result"
    }
   ],
   "source": [
    "c.insert(0, 'new')\n",
    "c"
   ]
  },
  {
   "cell_type": "code",
   "execution_count": 100,
   "id": "c3ce3d03",
   "metadata": {},
   "outputs": [
    {
     "data": {
      "text/plain": [
       "[1, 2, 3, 4, 'hey', True, (1, 2, 3)]"
      ]
     },
     "execution_count": 100,
     "metadata": {},
     "output_type": "execute_result"
    }
   ],
   "source": [
    "ls = [1, 2, 3, 4]\n",
    "\n",
    "ls.extend(['hey', True, (1, 2, 3)])\n",
    "ls"
   ]
  },
  {
   "cell_type": "code",
   "execution_count": 101,
   "id": "0615feab",
   "metadata": {},
   "outputs": [
    {
     "data": {
      "text/plain": [
       "[7, 8, 9.9, 27, 1, 2, 3]"
      ]
     },
     "execution_count": 101,
     "metadata": {},
     "output_type": "execute_result"
    }
   ],
   "source": [
    "l = [7, 8, 9.9, 27]\n",
    "\n",
    "l.extend((1, 2, 3))\n",
    "l"
   ]
  },
  {
   "cell_type": "code",
   "execution_count": null,
   "id": "949fb33c",
   "metadata": {},
   "outputs": [],
   "source": [
    "# extend takes one argument either list or Tuple"
   ]
  },
  {
   "cell_type": "code",
   "execution_count": null,
   "id": "d55af0af",
   "metadata": {},
   "outputs": [],
   "source": []
  },
  {
   "cell_type": "code",
   "execution_count": null,
   "id": "f398b8bc",
   "metadata": {},
   "outputs": [],
   "source": [
    "### To REMOVE from List\n",
    "\n",
    "#pop - removes from given index - list.pop(index)            --- returns pop out value\n",
    "#remove - removes the value - list.remove(Mention value)     --- does not returns pop out value\n",
    "# del list[index]   - square braces                          --- does not returns pop out value  -- multiple possible\n",
    "# clear - returns null list"
   ]
  },
  {
   "cell_type": "code",
   "execution_count": 1,
   "id": "180c0a43",
   "metadata": {},
   "outputs": [],
   "source": [
    "lang = ['c', 'c++', 'java', 'c#', 'python', 'english', 'Marathi', 'Hindi']"
   ]
  },
  {
   "cell_type": "code",
   "execution_count": 2,
   "id": "12f79882",
   "metadata": {},
   "outputs": [],
   "source": [
    "# deleting multiple values inside the list\n",
    "del lang[-3:]"
   ]
  },
  {
   "cell_type": "code",
   "execution_count": 3,
   "id": "498d9de3",
   "metadata": {},
   "outputs": [
    {
     "data": {
      "text/plain": [
       "['c', 'c++', 'java', 'c#', 'python']"
      ]
     },
     "execution_count": 3,
     "metadata": {},
     "output_type": "execute_result"
    }
   ],
   "source": [
    "lang"
   ]
  },
  {
   "cell_type": "code",
   "execution_count": 5,
   "id": "bee853f3",
   "metadata": {},
   "outputs": [],
   "source": [
    "del lang[2]"
   ]
  },
  {
   "cell_type": "code",
   "execution_count": 6,
   "id": "33e47d91",
   "metadata": {},
   "outputs": [
    {
     "data": {
      "text/plain": [
       "['c', 'c++', 'c#', 'python']"
      ]
     },
     "execution_count": 6,
     "metadata": {},
     "output_type": "execute_result"
    }
   ],
   "source": [
    "lang"
   ]
  },
  {
   "cell_type": "code",
   "execution_count": 48,
   "id": "b0dccbf8",
   "metadata": {},
   "outputs": [
    {
     "ename": "NameError",
     "evalue": "name 'c' is not defined",
     "output_type": "error",
     "traceback": [
      "\u001b[1;31m---------------------------------------------------------------------------\u001b[0m",
      "\u001b[1;31mNameError\u001b[0m                                 Traceback (most recent call last)",
      "\u001b[1;32m<ipython-input-48-40d654454b6b>\u001b[0m in \u001b[0;36m<module>\u001b[1;34m\u001b[0m\n\u001b[0;32m      1\u001b[0m \u001b[0mc\u001b[0m\u001b[1;33m=\u001b[0m\u001b[1;33m[\u001b[0m\u001b[1;36m1\u001b[0m\u001b[1;33m,\u001b[0m\u001b[1;36m2\u001b[0m\u001b[1;33m,\u001b[0m\u001b[1;36m3\u001b[0m\u001b[1;33m,\u001b[0m\u001b[1;36m4\u001b[0m\u001b[1;33m,\u001b[0m\u001b[1;36m45\u001b[0m\u001b[1;33m,\u001b[0m\u001b[1;36m5\u001b[0m\u001b[1;33m,\u001b[0m\u001b[1;36m8\u001b[0m\u001b[1;33m,\u001b[0m\u001b[1;36m7\u001b[0m\u001b[1;33m,\u001b[0m\u001b[1;36m6\u001b[0m\u001b[1;33m,\u001b[0m\u001b[1;36m11\u001b[0m\u001b[1;33m,\u001b[0m\u001b[1;36m13\u001b[0m\u001b[1;33m,\u001b[0m\u001b[1;36m12\u001b[0m\u001b[1;33m,\u001b[0m\u001b[1;36m16\u001b[0m\u001b[1;33m,\u001b[0m\u001b[1;36m19\u001b[0m\u001b[1;33m,\u001b[0m\u001b[1;36m21\u001b[0m\u001b[1;33m,\u001b[0m\u001b[1;36m33\u001b[0m\u001b[1;33m,\u001b[0m\u001b[1;36m27\u001b[0m\u001b[1;33m,\u001b[0m\u001b[1;36m38\u001b[0m\u001b[1;33m,\u001b[0m\u001b[1;36m34\u001b[0m\u001b[1;33m]\u001b[0m\u001b[1;33m\u001b[0m\u001b[1;33m\u001b[0m\u001b[0m\n\u001b[0;32m      2\u001b[0m \u001b[1;32mdel\u001b[0m \u001b[0mc\u001b[0m\u001b[1;33m\u001b[0m\u001b[1;33m\u001b[0m\u001b[0m\n\u001b[1;32m----> 3\u001b[1;33m \u001b[0mc\u001b[0m\u001b[1;33m\u001b[0m\u001b[1;33m\u001b[0m\u001b[0m\n\u001b[0m",
      "\u001b[1;31mNameError\u001b[0m: name 'c' is not defined"
     ]
    }
   ],
   "source": [
    "c = [1, 2, 3, 4, 45, 5, 8, 7, 6, 11, 13, 12, 16, 19, 21, 33, 27, 38, 34]\n",
    "del c\n",
    "c"
   ]
  },
  {
   "cell_type": "code",
   "execution_count": 7,
   "id": "f40d5708",
   "metadata": {},
   "outputs": [
    {
     "data": {
      "text/plain": [
       "'c#'"
      ]
     },
     "execution_count": 7,
     "metadata": {},
     "output_type": "execute_result"
    }
   ],
   "source": [
    "lang.pop(-2)"
   ]
  },
  {
   "cell_type": "code",
   "execution_count": 8,
   "id": "501bc651",
   "metadata": {},
   "outputs": [
    {
     "data": {
      "text/plain": [
       "['c', 'c++', 'python']"
      ]
     },
     "execution_count": 8,
     "metadata": {},
     "output_type": "execute_result"
    }
   ],
   "source": [
    "lang"
   ]
  },
  {
   "cell_type": "code",
   "execution_count": 9,
   "id": "f7fd661d",
   "metadata": {},
   "outputs": [],
   "source": [
    "lang.remove('c')"
   ]
  },
  {
   "cell_type": "code",
   "execution_count": 10,
   "id": "c994a849",
   "metadata": {},
   "outputs": [
    {
     "data": {
      "text/plain": [
       "['c++', 'python']"
      ]
     },
     "execution_count": 10,
     "metadata": {},
     "output_type": "execute_result"
    }
   ],
   "source": [
    "lang"
   ]
  },
  {
   "cell_type": "code",
   "execution_count": null,
   "id": "251c6e65",
   "metadata": {},
   "outputs": [],
   "source": []
  },
  {
   "cell_type": "code",
   "execution_count": 102,
   "id": "4ebc8ef9",
   "metadata": {},
   "outputs": [
    {
     "data": {
      "text/plain": [
       "[1, 2, 3, 4, 'hey', True]"
      ]
     },
     "execution_count": 102,
     "metadata": {},
     "output_type": "execute_result"
    }
   ],
   "source": [
    "# if not mentioned index removes last - default index = -1\n",
    "ls.pop()\n",
    "ls"
   ]
  },
  {
   "cell_type": "code",
   "execution_count": 103,
   "id": "4151f034",
   "metadata": {},
   "outputs": [
    {
     "data": {
      "text/plain": [
       "[1, 2, 4, 'hey', True]"
      ]
     },
     "execution_count": 103,
     "metadata": {},
     "output_type": "execute_result"
    }
   ],
   "source": [
    "ls.pop(2)\n",
    "ls"
   ]
  },
  {
   "cell_type": "code",
   "execution_count": 104,
   "id": "3a54d961",
   "metadata": {},
   "outputs": [
    {
     "data": {
      "text/plain": [
       "[1, 2, 4, True]"
      ]
     },
     "execution_count": 104,
     "metadata": {},
     "output_type": "execute_result"
    }
   ],
   "source": [
    "ls.remove('hey')\n",
    "ls"
   ]
  },
  {
   "cell_type": "code",
   "execution_count": 105,
   "id": "91183c3b",
   "metadata": {},
   "outputs": [],
   "source": [
    "ls.clear()"
   ]
  },
  {
   "cell_type": "code",
   "execution_count": 106,
   "id": "6bbc7c5a",
   "metadata": {},
   "outputs": [
    {
     "data": {
      "text/plain": [
       "[]"
      ]
     },
     "execution_count": 106,
     "metadata": {},
     "output_type": "execute_result"
    }
   ],
   "source": [
    "ls"
   ]
  },
  {
   "cell_type": "code",
   "execution_count": 107,
   "id": "4e2a97d6",
   "metadata": {},
   "outputs": [
    {
     "data": {
      "text/plain": [
       "[1, 3, 5, 7, 9, 11, 13, 15]"
      ]
     },
     "execution_count": 107,
     "metadata": {},
     "output_type": "execute_result"
    }
   ],
   "source": [
    "### copy the list\n",
    "e = [1, 3, 5, 7, 9, 11, 13, 15]\n",
    "f = e.copy()\n",
    "f"
   ]
  },
  {
   "cell_type": "code",
   "execution_count": 108,
   "id": "645be3e3",
   "metadata": {},
   "outputs": [
    {
     "data": {
      "text/plain": [
       "True"
      ]
     },
     "execution_count": 108,
     "metadata": {},
     "output_type": "execute_result"
    }
   ],
   "source": [
    "e == f"
   ]
  },
  {
   "cell_type": "code",
   "execution_count": 109,
   "id": "2fb1bd05",
   "metadata": {},
   "outputs": [
    {
     "data": {
      "text/plain": [
       "1"
      ]
     },
     "execution_count": 109,
     "metadata": {},
     "output_type": "execute_result"
    }
   ],
   "source": [
    "# count - Measures the frequency -  list.count(value)\n",
    "\n",
    "e.count(7)"
   ]
  },
  {
   "cell_type": "code",
   "execution_count": 110,
   "id": "ea94d6e5",
   "metadata": {},
   "outputs": [
    {
     "data": {
      "text/plain": [
       "3"
      ]
     },
     "execution_count": 110,
     "metadata": {},
     "output_type": "execute_result"
    }
   ],
   "source": [
    "# index - shows the index of that value  - list.index(value)\n",
    "f.index(7)"
   ]
  },
  {
   "cell_type": "code",
   "execution_count": 111,
   "id": "6ddeb0ad",
   "metadata": {},
   "outputs": [
    {
     "name": "stdout",
     "output_type": "stream",
     "text": [
      "1\n",
      "3\n"
     ]
    }
   ],
   "source": [
    "a = [\"bee\", \"ant\", \"moth\", \"ant\"]\n",
    "print(a.index(\"ant\"))\n",
    "print(a.index(\"ant\", 2))"
   ]
  },
  {
   "cell_type": "code",
   "execution_count": 112,
   "id": "4d2700e4",
   "metadata": {},
   "outputs": [
    {
     "data": {
      "text/plain": [
       "[15, 13, 11, 9, 7, 5, 3, 1]"
      ]
     },
     "execution_count": 112,
     "metadata": {},
     "output_type": "execute_result"
    }
   ],
   "source": [
    "# reversing the order\n",
    "e.reverse()\n",
    "e"
   ]
  },
  {
   "cell_type": "code",
   "execution_count": null,
   "id": "476673f7",
   "metadata": {},
   "outputs": [],
   "source": [
    "# sorting assending / decending = # inplace sorting - original list gets modified"
   ]
  },
  {
   "cell_type": "code",
   "execution_count": 113,
   "id": "3cf444af",
   "metadata": {},
   "outputs": [
    {
     "data": {
      "text/plain": [
       "[1, 2, 7, 8, 15, 21]"
      ]
     },
     "execution_count": 113,
     "metadata": {},
     "output_type": "execute_result"
    }
   ],
   "source": [
    "L = [1, 8, 7, 2, 21, 15]\n",
    "L.sort()  # inplace sorting - original list gets modified\n",
    "L"
   ]
  },
  {
   "cell_type": "code",
   "execution_count": 114,
   "id": "74f66ef5",
   "metadata": {},
   "outputs": [
    {
     "data": {
      "text/plain": [
       "[21, 15, 8, 7, 2, 1]"
      ]
     },
     "execution_count": 114,
     "metadata": {},
     "output_type": "execute_result"
    }
   ],
   "source": [
    "L.sort(reverse=True)\n",
    "L"
   ]
  },
  {
   "cell_type": "code",
   "execution_count": 115,
   "id": "779adafd",
   "metadata": {},
   "outputs": [
    {
     "data": {
      "text/plain": [
       "[1, 2, 7, 8, 15, 21]"
      ]
     },
     "execution_count": 115,
     "metadata": {},
     "output_type": "execute_result"
    }
   ],
   "source": [
    "# sorted fun for list & Tuple but sort cant be for tuple as it is immutable\n",
    "# in sort it changes original list but original tuple cant be changed as it is immutable\n",
    "# so \"sorted\" is used  - It is 'Not in place' sorting\n",
    "sorted(L)"
   ]
  },
  {
   "cell_type": "code",
   "execution_count": 116,
   "id": "bab7d08d",
   "metadata": {},
   "outputs": [
    {
     "data": {
      "text/plain": [
       "[(0, 'Pankaj'), (1, 'is'), (2, 'a'), (3, 'good'), (4, 'boy')]"
      ]
     },
     "execution_count": 116,
     "metadata": {},
     "output_type": "execute_result"
    }
   ],
   "source": [
    "# enumerate - adds counter\n",
    "\n",
    "lst = ['Pankaj', 'is', 'a', 'good', 'boy']\n",
    "\n",
    "list(enumerate(lst))\n",
    "\n",
    "# for List - (counter,character)  - compare with string"
   ]
  },
  {
   "cell_type": "code",
   "execution_count": null,
   "id": "826ab24b",
   "metadata": {},
   "outputs": [],
   "source": []
  },
  {
   "cell_type": "code",
   "execution_count": null,
   "id": "e9a37b91",
   "metadata": {},
   "outputs": [],
   "source": [
    "### List Slicing\n",
    "# similar to string"
   ]
  },
  {
   "cell_type": "code",
   "execution_count": 117,
   "id": "487d0bbd",
   "metadata": {},
   "outputs": [
    {
     "data": {
      "text/plain": [
       "7"
      ]
     },
     "execution_count": 117,
     "metadata": {},
     "output_type": "execute_result"
    }
   ],
   "source": [
    "List1 = [1, 2, 3, 4, 5, [6, 7, 8, 9, 10, 11, 12]]\n",
    "\n",
    "List1[-1][1]"
   ]
  },
  {
   "cell_type": "code",
   "execution_count": 118,
   "id": "a56fa368",
   "metadata": {},
   "outputs": [
    {
     "data": {
      "text/plain": [
       "[[6, 7, 8, 9, 10, 11, 12], 5, 4, 3, 2, 1]"
      ]
     },
     "execution_count": 118,
     "metadata": {},
     "output_type": "execute_result"
    }
   ],
   "source": [
    "# not stored until assigned\n",
    "List1[::-1]"
   ]
  },
  {
   "cell_type": "code",
   "execution_count": 119,
   "id": "0f76a5db",
   "metadata": {},
   "outputs": [
    {
     "data": {
      "text/plain": [
       "[1, 2, 3, 4, 5, [6, 7, 8, 9, 10, 11, 12]]"
      ]
     },
     "execution_count": 119,
     "metadata": {},
     "output_type": "execute_result"
    }
   ],
   "source": [
    "List1"
   ]
  },
  {
   "cell_type": "code",
   "execution_count": 120,
   "id": "d3dc3f10",
   "metadata": {},
   "outputs": [
    {
     "data": {
      "text/plain": [
       "[3, 5]"
      ]
     },
     "execution_count": 120,
     "metadata": {},
     "output_type": "execute_result"
    }
   ],
   "source": [
    "List1[2::2]"
   ]
  },
  {
   "cell_type": "code",
   "execution_count": 121,
   "id": "c7493804",
   "metadata": {},
   "outputs": [
    {
     "data": {
      "text/plain": [
       "[5, 4, 3, 2, 1]"
      ]
     },
     "execution_count": 121,
     "metadata": {},
     "output_type": "execute_result"
    }
   ],
   "source": [
    "List1[4::-1]"
   ]
  },
  {
   "cell_type": "code",
   "execution_count": 122,
   "id": "19c9abac",
   "metadata": {},
   "outputs": [
    {
     "data": {
      "text/plain": [
       "(6, 7, 8)"
      ]
     },
     "execution_count": 122,
     "metadata": {},
     "output_type": "execute_result"
    }
   ],
   "source": [
    "Lst = [1, 2, 3, 4, 5, (6, 7, 8)]\n",
    "Lst[-1]"
   ]
  },
  {
   "cell_type": "code",
   "execution_count": 123,
   "id": "e39d7002",
   "metadata": {},
   "outputs": [
    {
     "data": {
      "text/plain": [
       "7"
      ]
     },
     "execution_count": 123,
     "metadata": {},
     "output_type": "execute_result"
    }
   ],
   "source": [
    "# accesing the Tuple inside the list\n",
    "Lst[-1][1]"
   ]
  },
  {
   "cell_type": "code",
   "execution_count": null,
   "id": "3e3a96b8",
   "metadata": {},
   "outputs": [],
   "source": []
  },
  {
   "cell_type": "code",
   "execution_count": 124,
   "id": "39f2dd56",
   "metadata": {},
   "outputs": [
    {
     "data": {
      "text/plain": [
       "6"
      ]
     },
     "execution_count": 124,
     "metadata": {},
     "output_type": "execute_result"
    }
   ],
   "source": [
    "#len - measures no of items inside list\n",
    "len(List1)"
   ]
  },
  {
   "cell_type": "code",
   "execution_count": 125,
   "id": "8159af1e",
   "metadata": {},
   "outputs": [
    {
     "data": {
      "text/plain": [
       "21"
      ]
     },
     "execution_count": 125,
     "metadata": {},
     "output_type": "execute_result"
    }
   ],
   "source": [
    "# max - returns max in list\n",
    "L = [1, 8, 7, 2, 21, 15]\n",
    "max(L)"
   ]
  },
  {
   "cell_type": "code",
   "execution_count": 126,
   "id": "8b16258a",
   "metadata": {},
   "outputs": [
    {
     "data": {
      "text/plain": [
       "1"
      ]
     },
     "execution_count": 126,
     "metadata": {},
     "output_type": "execute_result"
    }
   ],
   "source": [
    "# min - returns min in list\n",
    "min(L)"
   ]
  },
  {
   "cell_type": "code",
   "execution_count": 127,
   "id": "ad2bd8e0",
   "metadata": {},
   "outputs": [
    {
     "data": {
      "text/plain": [
       "range(1, 11)"
      ]
     },
     "execution_count": 127,
     "metadata": {},
     "output_type": "execute_result"
    }
   ],
   "source": [
    "# Range - range(start,end,step size)   - same as indexing\n",
    "\n",
    "range(1, 11)"
   ]
  },
  {
   "cell_type": "code",
   "execution_count": 128,
   "id": "a1a8776d",
   "metadata": {},
   "outputs": [
    {
     "data": {
      "text/plain": [
       "[1, 2, 3, 4, 5, 6, 7, 8, 9, 10]"
      ]
     },
     "execution_count": 128,
     "metadata": {},
     "output_type": "execute_result"
    }
   ],
   "source": [
    "# always to see the result we have to make a list of the range function like enumerate\n",
    "list(range(1, 11))"
   ]
  },
  {
   "cell_type": "code",
   "execution_count": null,
   "id": "af8d1fcf",
   "metadata": {},
   "outputs": [],
   "source": []
  },
  {
   "cell_type": "code",
   "execution_count": 129,
   "id": "6eabefb2",
   "metadata": {},
   "outputs": [
    {
     "data": {
      "text/plain": [
       "['H', 'e', 'l', 'l', 'o']"
      ]
     },
     "execution_count": 129,
     "metadata": {},
     "output_type": "execute_result"
    }
   ],
   "source": [
    "### converting back to string\n",
    "\n",
    "string1 = 'Hello'\n",
    "list(string1)"
   ]
  },
  {
   "cell_type": "code",
   "execution_count": 130,
   "id": "30a6e6de",
   "metadata": {},
   "outputs": [
    {
     "data": {
      "text/plain": [
       "'Hello'"
      ]
     },
     "execution_count": 130,
     "metadata": {},
     "output_type": "execute_result"
    }
   ],
   "source": [
    "#converting list back to string\n",
    "\n",
    "\"\".join(string1)"
   ]
  },
  {
   "cell_type": "code",
   "execution_count": 131,
   "id": "9564525a",
   "metadata": {},
   "outputs": [
    {
     "data": {
      "text/plain": [
       "'H*e*l*l*o'"
      ]
     },
     "execution_count": 131,
     "metadata": {},
     "output_type": "execute_result"
    }
   ],
   "source": [
    "\"*\".join(string1)"
   ]
  },
  {
   "cell_type": "code",
   "execution_count": null,
   "id": "d7205ff5",
   "metadata": {},
   "outputs": [],
   "source": []
  },
  {
   "cell_type": "code",
   "execution_count": 7,
   "id": "b711eda8",
   "metadata": {},
   "outputs": [],
   "source": [
    "lang = ['Pascal', 'C', 'Cpp', 'Ruby', 'Java', 'C#', 'Golang', 'Scala', 'Python']"
   ]
  },
  {
   "cell_type": "code",
   "execution_count": 8,
   "id": "403c618f",
   "metadata": {
    "scrolled": true
   },
   "outputs": [
    {
     "ename": "AttributeError",
     "evalue": "'list' object has no attribute 'find'",
     "output_type": "error",
     "traceback": [
      "\u001b[1;31m---------------------------------------------------------------------------\u001b[0m",
      "\u001b[1;31mAttributeError\u001b[0m                            Traceback (most recent call last)",
      "\u001b[1;32m<ipython-input-8-9c285199bfef>\u001b[0m in \u001b[0;36m<module>\u001b[1;34m\u001b[0m\n\u001b[1;32m----> 1\u001b[1;33m \u001b[0mlang\u001b[0m\u001b[1;33m.\u001b[0m\u001b[0mfind\u001b[0m\u001b[1;33m(\u001b[0m\u001b[1;34m'c'\u001b[0m\u001b[1;33m)\u001b[0m\u001b[1;33m\u001b[0m\u001b[1;33m\u001b[0m\u001b[0m\n\u001b[0m",
      "\u001b[1;31mAttributeError\u001b[0m: 'list' object has no attribute 'find'"
     ]
    }
   ],
   "source": [
    "lang.find('c')"
   ]
  },
  {
   "cell_type": "code",
   "execution_count": 9,
   "id": "a74afd2e",
   "metadata": {},
   "outputs": [
    {
     "data": {
      "text/plain": [
       "False"
      ]
     },
     "execution_count": 9,
     "metadata": {},
     "output_type": "execute_result"
    }
   ],
   "source": [
    "# To find use in / not in operator\n",
    "\"c\" in lang"
   ]
  },
  {
   "cell_type": "code",
   "execution_count": 10,
   "id": "e552e0e6",
   "metadata": {},
   "outputs": [
    {
     "data": {
      "text/plain": [
       "True"
      ]
     },
     "execution_count": 10,
     "metadata": {},
     "output_type": "execute_result"
    }
   ],
   "source": [
    "\"C\" in lang"
   ]
  },
  {
   "cell_type": "markdown",
   "id": "df38fcbe",
   "metadata": {},
   "source": [
    "## Tuples\n",
    "* Ordered Collection of items/objects/elements\n",
    "* Syntax: ( )\n",
    "* IMMUTABLE - like String - altering / modifying not allowed\n",
    "* Tuple contains all the data types - int,float,string,complex,list,tuple,set,dict"
   ]
  },
  {
   "cell_type": "code",
   "execution_count": null,
   "id": "f96b7180",
   "metadata": {},
   "outputs": [],
   "source": []
  },
  {
   "cell_type": "code",
   "execution_count": 132,
   "id": "d0173937",
   "metadata": {},
   "outputs": [],
   "source": [
    "Tup = (101, 205.27, True, False, ['hey', 11, False], 'Datta', 1 + 5j)"
   ]
  },
  {
   "cell_type": "code",
   "execution_count": 133,
   "id": "ed2194db",
   "metadata": {},
   "outputs": [],
   "source": [
    "# Tuple & List inside Tuple\n",
    "lt = (101, 205.27, True, False, ['hey', 11, False], 'Datta', 1 + 5j, (5, 6, 7))"
   ]
  },
  {
   "cell_type": "code",
   "execution_count": 134,
   "id": "00074579",
   "metadata": {},
   "outputs": [],
   "source": [
    "# Dict, Set inside a Tuple\n",
    "new = [(5, 6, 7), {3, 2, 3}, {'key': 'Value', 'key2': 'Value2'}]"
   ]
  },
  {
   "cell_type": "code",
   "execution_count": 135,
   "id": "edb66c46",
   "metadata": {},
   "outputs": [],
   "source": [
    "### Advantages of Tuple over List\n",
    "\n",
    "# more memory efficient\n",
    "# process faster than List - less time\n",
    "# Immutable - cant change over time"
   ]
  },
  {
   "cell_type": "code",
   "execution_count": 136,
   "id": "a970fb9a",
   "metadata": {},
   "outputs": [
    {
     "name": "stdout",
     "output_type": "stream",
     "text": [
      "<class 'str'>\n",
      "<class 'tuple'>\n"
     ]
    }
   ],
   "source": [
    "### Single element Tuple  Null - (), single - (1,)\n",
    "a = (\"god\")\n",
    "b = (\"god\", )\n",
    "\n",
    "print(type(a))\n",
    "print(type(b))"
   ]
  },
  {
   "cell_type": "code",
   "execution_count": 137,
   "id": "74df9910",
   "metadata": {},
   "outputs": [
    {
     "data": {
      "text/plain": [
       "2"
      ]
     },
     "execution_count": 137,
     "metadata": {},
     "output_type": "execute_result"
    }
   ],
   "source": [
    "Tup.index(True)"
   ]
  },
  {
   "cell_type": "code",
   "execution_count": 138,
   "id": "b4cb90c0",
   "metadata": {},
   "outputs": [
    {
     "data": {
      "text/plain": [
       "1"
      ]
     },
     "execution_count": 138,
     "metadata": {},
     "output_type": "execute_result"
    }
   ],
   "source": [
    "Tup.count(True)"
   ]
  },
  {
   "cell_type": "code",
   "execution_count": 139,
   "id": "10f03da3",
   "metadata": {},
   "outputs": [
    {
     "data": {
      "text/plain": [
       "5"
      ]
     },
     "execution_count": 139,
     "metadata": {},
     "output_type": "execute_result"
    }
   ],
   "source": [
    "# occurance of object\n",
    "t = (1, 2, 3, 4, 5, 2, 3, 8, 10, 2)\n",
    "t.index(2, 2)"
   ]
  },
  {
   "cell_type": "code",
   "execution_count": null,
   "id": "e6f2d259",
   "metadata": {},
   "outputs": [],
   "source": []
  },
  {
   "cell_type": "code",
   "execution_count": 140,
   "id": "d544d994",
   "metadata": {},
   "outputs": [
    {
     "data": {
      "text/plain": [
       "((1+5j), 'Datta', ['hey', 11, False], False, True, 205.27, 101)"
      ]
     },
     "execution_count": 140,
     "metadata": {},
     "output_type": "execute_result"
    }
   ],
   "source": [
    "# Slicing of Tuple - Same as before\n",
    "\n",
    "Tup[::-1]"
   ]
  },
  {
   "cell_type": "code",
   "execution_count": 141,
   "id": "9547999c",
   "metadata": {},
   "outputs": [
    {
     "data": {
      "text/plain": [
       "(False, 'Datta')"
      ]
     },
     "execution_count": 141,
     "metadata": {},
     "output_type": "execute_result"
    }
   ],
   "source": [
    "Tup[3::2]"
   ]
  },
  {
   "cell_type": "code",
   "execution_count": 142,
   "id": "3db9a147",
   "metadata": {},
   "outputs": [
    {
     "data": {
      "text/plain": [
       "'Tuesday'"
      ]
     },
     "execution_count": 142,
     "metadata": {},
     "output_type": "execute_result"
    }
   ],
   "source": [
    "t = (101, 202, [\"Monday\", \"Tuesday\", \"Wednesday\", \"Thursday\", \"Friday\"])\n",
    "\n",
    "t[2][1]"
   ]
  },
  {
   "cell_type": "code",
   "execution_count": 143,
   "id": "b615eb6a",
   "metadata": {},
   "outputs": [
    {
     "data": {
      "text/plain": [
       "(101, 202, ['Monday', 'TUESDAY', 'Wednesday', 'Thursday', 'Friday'])"
      ]
     },
     "execution_count": 143,
     "metadata": {},
     "output_type": "execute_result"
    }
   ],
   "source": [
    "### updating the list inside the tuple\n",
    "\n",
    "t[2][1] = 'TUESDAY'\n",
    "t"
   ]
  },
  {
   "cell_type": "code",
   "execution_count": null,
   "id": "4e665bcd",
   "metadata": {},
   "outputs": [],
   "source": []
  },
  {
   "cell_type": "code",
   "execution_count": 144,
   "id": "ce35ce27",
   "metadata": {},
   "outputs": [
    {
     "data": {
      "text/plain": [
       "(1, 2, 3, 1, 2, 3)"
      ]
     },
     "execution_count": 144,
     "metadata": {},
     "output_type": "execute_result"
    }
   ],
   "source": [
    "a = (1, 2, 3)\n",
    "a + a"
   ]
  },
  {
   "cell_type": "code",
   "execution_count": 145,
   "id": "768611fc",
   "metadata": {},
   "outputs": [
    {
     "data": {
      "text/plain": [
       "(1, 2, 3, 1, 2, 3, 1, 2, 3)"
      ]
     },
     "execution_count": 145,
     "metadata": {},
     "output_type": "execute_result"
    }
   ],
   "source": [
    "a * 3"
   ]
  },
  {
   "cell_type": "code",
   "execution_count": 146,
   "id": "2e67cba0",
   "metadata": {},
   "outputs": [
    {
     "ename": "TypeError",
     "evalue": "can't multiply sequence by non-int of type 'tuple'",
     "output_type": "error",
     "traceback": [
      "\u001b[1;31m---------------------------------------------------------------------------\u001b[0m",
      "\u001b[1;31mTypeError\u001b[0m                                 Traceback (most recent call last)",
      "\u001b[1;32m<ipython-input-146-6875aeea56d5>\u001b[0m in \u001b[0;36m<module>\u001b[1;34m\u001b[0m\n\u001b[0;32m      1\u001b[0m \u001b[1;31m# not possible\u001b[0m\u001b[1;33m\u001b[0m\u001b[1;33m\u001b[0m\u001b[1;33m\u001b[0m\u001b[0m\n\u001b[1;32m----> 2\u001b[1;33m \u001b[0ma\u001b[0m\u001b[1;33m*\u001b[0m\u001b[0ma\u001b[0m\u001b[1;33m\u001b[0m\u001b[1;33m\u001b[0m\u001b[0m\n\u001b[0m",
      "\u001b[1;31mTypeError\u001b[0m: can't multiply sequence by non-int of type 'tuple'"
     ]
    }
   ],
   "source": [
    "# not possible\n",
    "a * a"
   ]
  },
  {
   "cell_type": "code",
   "execution_count": 147,
   "id": "aa9d73dc",
   "metadata": {},
   "outputs": [
    {
     "ename": "TypeError",
     "evalue": "unsupported operand type(s) for -: 'tuple' and 'tuple'",
     "output_type": "error",
     "traceback": [
      "\u001b[1;31m---------------------------------------------------------------------------\u001b[0m",
      "\u001b[1;31mTypeError\u001b[0m                                 Traceback (most recent call last)",
      "\u001b[1;32m<ipython-input-147-0507933114b3>\u001b[0m in \u001b[0;36m<module>\u001b[1;34m\u001b[0m\n\u001b[0;32m      1\u001b[0m \u001b[1;31m# not possible\u001b[0m\u001b[1;33m\u001b[0m\u001b[1;33m\u001b[0m\u001b[1;33m\u001b[0m\u001b[0m\n\u001b[1;32m----> 2\u001b[1;33m \u001b[0ma\u001b[0m\u001b[1;33m-\u001b[0m\u001b[0ma\u001b[0m\u001b[1;33m\u001b[0m\u001b[1;33m\u001b[0m\u001b[0m\n\u001b[0m",
      "\u001b[1;31mTypeError\u001b[0m: unsupported operand type(s) for -: 'tuple' and 'tuple'"
     ]
    }
   ],
   "source": [
    "# not possible\n",
    "a - a"
   ]
  },
  {
   "cell_type": "code",
   "execution_count": 148,
   "id": "f8c2043f",
   "metadata": {},
   "outputs": [
    {
     "data": {
      "text/plain": [
       "()"
      ]
     },
     "execution_count": 148,
     "metadata": {},
     "output_type": "execute_result"
    }
   ],
   "source": [
    "# null tuple\n",
    "a * 0"
   ]
  },
  {
   "cell_type": "code",
   "execution_count": 149,
   "id": "ba7a9293",
   "metadata": {},
   "outputs": [
    {
     "data": {
      "text/plain": [
       "()"
      ]
     },
     "execution_count": 149,
     "metadata": {},
     "output_type": "execute_result"
    }
   ],
   "source": [
    "# null tuple\n",
    "a * -1"
   ]
  },
  {
   "cell_type": "code",
   "execution_count": 150,
   "id": "4c63b945",
   "metadata": {},
   "outputs": [
    {
     "data": {
      "text/plain": [
       "((0, 1, 2, 3), ('python', 'geek'))"
      ]
     },
     "execution_count": 150,
     "metadata": {},
     "output_type": "execute_result"
    }
   ],
   "source": [
    "Tuple1 = (0, 1, 2, 3)\n",
    "Tuple2 = ('python', 'geek')\n",
    "Tuple3 = (Tuple1, Tuple2)\n",
    "Tuple3"
   ]
  },
  {
   "cell_type": "code",
   "execution_count": null,
   "id": "82da2f35",
   "metadata": {},
   "outputs": [],
   "source": []
  },
  {
   "cell_type": "code",
   "execution_count": 151,
   "id": "ad4e72b8",
   "metadata": {},
   "outputs": [
    {
     "data": {
      "text/plain": [
       "7"
      ]
     },
     "execution_count": 151,
     "metadata": {},
     "output_type": "execute_result"
    }
   ],
   "source": [
    "#len\n",
    "len(Tup)"
   ]
  },
  {
   "cell_type": "code",
   "execution_count": 152,
   "id": "fd3904e1",
   "metadata": {},
   "outputs": [
    {
     "data": {
      "text/plain": [
       "94"
      ]
     },
     "execution_count": 152,
     "metadata": {},
     "output_type": "execute_result"
    }
   ],
   "source": [
    "tup = (21, 65, 87, 37, 88.8, 94)\n",
    "max(tup)"
   ]
  },
  {
   "cell_type": "code",
   "execution_count": 153,
   "id": "d3c031f5",
   "metadata": {},
   "outputs": [
    {
     "data": {
      "text/plain": [
       "21"
      ]
     },
     "execution_count": 153,
     "metadata": {},
     "output_type": "execute_result"
    }
   ],
   "source": [
    "min(tup)"
   ]
  },
  {
   "cell_type": "code",
   "execution_count": 154,
   "id": "a50dec44",
   "metadata": {},
   "outputs": [
    {
     "data": {
      "text/plain": [
       "[(0, 'bee'), (1, 'ant'), (2, 'moth'), (3, 'ant')]"
      ]
     },
     "execution_count": 154,
     "metadata": {},
     "output_type": "execute_result"
    }
   ],
   "source": [
    "# enumerate\n",
    "a = (\"bee\", \"ant\", \"moth\", \"ant\")\n",
    "\n",
    "list(enumerate(a))"
   ]
  },
  {
   "cell_type": "code",
   "execution_count": 155,
   "id": "c11fdb08",
   "metadata": {},
   "outputs": [
    {
     "data": {
      "text/plain": [
       "((0, 'bee'), (1, 'ant'), (2, 'moth'), (3, 'ant'))"
      ]
     },
     "execution_count": 155,
     "metadata": {},
     "output_type": "execute_result"
    }
   ],
   "source": [
    "tuple(enumerate(a))"
   ]
  },
  {
   "cell_type": "code",
   "execution_count": null,
   "id": "8569f9d4",
   "metadata": {},
   "outputs": [],
   "source": []
  },
  {
   "cell_type": "code",
   "execution_count": 156,
   "id": "85dd5d01",
   "metadata": {},
   "outputs": [
    {
     "data": {
      "text/plain": [
       "[1, 2, 3, 4, 5, 6, 7, 8, 9]"
      ]
     },
     "execution_count": 156,
     "metadata": {},
     "output_type": "execute_result"
    }
   ],
   "source": [
    "# sorted to sort for tuple not Sort like list - it is 'not inplace sorting' \n",
    "\n",
    "tupl = (1, 2, 3, 4, 5, 6, 7, 8, 9)\n",
    "sorted(tupl)"
   ]
  },
  {
   "cell_type": "code",
   "execution_count": 157,
   "id": "1207b47f",
   "metadata": {},
   "outputs": [
    {
     "data": {
      "text/plain": [
       "['ant', 'ant', 'bee', 'moth']"
      ]
     },
     "execution_count": 157,
     "metadata": {},
     "output_type": "execute_result"
    }
   ],
   "source": [
    "a = (\"bee\", \"ant\", \"moth\", \"ant\")\n",
    "sorted(a)"
   ]
  },
  {
   "cell_type": "code",
   "execution_count": 158,
   "id": "ae08f205",
   "metadata": {},
   "outputs": [
    {
     "data": {
      "text/plain": [
       "[9, 8, 7, 6, 5, 4, 3, 2, 1]"
      ]
     },
     "execution_count": 158,
     "metadata": {},
     "output_type": "execute_result"
    }
   ],
   "source": [
    "sorted(tupl, reverse=True)"
   ]
  },
  {
   "cell_type": "code",
   "execution_count": 159,
   "id": "f49e9c92",
   "metadata": {},
   "outputs": [
    {
     "data": {
      "text/plain": [
       "['moth', 'bee', 'ant', 'ant']"
      ]
     },
     "execution_count": 159,
     "metadata": {},
     "output_type": "execute_result"
    }
   ],
   "source": [
    "a = (\"bee\", \"ant\", \"moth\", \"ant\")\n",
    "sorted(a, reverse=True)"
   ]
  },
  {
   "cell_type": "code",
   "execution_count": null,
   "id": "55a81852",
   "metadata": {},
   "outputs": [],
   "source": [
    "# Sorted(seq,key=attrgetter/itemgetter / fun, reverse=True/False)"
   ]
  },
  {
   "cell_type": "code",
   "execution_count": 11,
   "id": "92d5a383",
   "metadata": {},
   "outputs": [
    {
     "ename": "AttributeError",
     "evalue": "'tuple' object has no attribute 'copy'",
     "output_type": "error",
     "traceback": [
      "\u001b[1;31m---------------------------------------------------------------------------\u001b[0m",
      "\u001b[1;31mAttributeError\u001b[0m                            Traceback (most recent call last)",
      "\u001b[1;32m<ipython-input-11-b9ac5ed9ba78>\u001b[0m in \u001b[0;36m<module>\u001b[1;34m\u001b[0m\n\u001b[0;32m      1\u001b[0m \u001b[0mtupl\u001b[0m\u001b[1;33m=\u001b[0m\u001b[1;33m(\u001b[0m\u001b[1;36m1\u001b[0m\u001b[1;33m,\u001b[0m\u001b[1;36m2\u001b[0m\u001b[1;33m,\u001b[0m\u001b[1;36m3\u001b[0m\u001b[1;33m,\u001b[0m\u001b[1;36m4\u001b[0m\u001b[1;33m,\u001b[0m\u001b[1;36m5\u001b[0m\u001b[1;33m,\u001b[0m\u001b[1;36m6\u001b[0m\u001b[1;33m,\u001b[0m\u001b[1;36m7\u001b[0m\u001b[1;33m,\u001b[0m\u001b[1;36m8\u001b[0m\u001b[1;33m,\u001b[0m\u001b[1;36m9\u001b[0m\u001b[1;33m)\u001b[0m\u001b[1;33m\u001b[0m\u001b[1;33m\u001b[0m\u001b[0m\n\u001b[1;32m----> 2\u001b[1;33m \u001b[0mtup_copy\u001b[0m\u001b[1;33m=\u001b[0m\u001b[0mtupl\u001b[0m\u001b[1;33m.\u001b[0m\u001b[0mcopy\u001b[0m\u001b[1;33m(\u001b[0m\u001b[1;33m)\u001b[0m\u001b[1;33m\u001b[0m\u001b[1;33m\u001b[0m\u001b[0m\n\u001b[0m",
      "\u001b[1;31mAttributeError\u001b[0m: 'tuple' object has no attribute 'copy'"
     ]
    }
   ],
   "source": [
    "tupl = (1, 2, 3, 4, 5, 6, 7, 8, 9)\n",
    "tup_copy = tupl.copy()"
   ]
  },
  {
   "cell_type": "code",
   "execution_count": 12,
   "id": "5f383780",
   "metadata": {},
   "outputs": [
    {
     "ename": "AttributeError",
     "evalue": "'tuple' object has no attribute 'find'",
     "output_type": "error",
     "traceback": [
      "\u001b[1;31m---------------------------------------------------------------------------\u001b[0m",
      "\u001b[1;31mAttributeError\u001b[0m                            Traceback (most recent call last)",
      "\u001b[1;32m<ipython-input-12-147246f79052>\u001b[0m in \u001b[0;36m<module>\u001b[1;34m\u001b[0m\n\u001b[1;32m----> 1\u001b[1;33m \u001b[0mtupl\u001b[0m\u001b[1;33m.\u001b[0m\u001b[0mfind\u001b[0m\u001b[1;33m(\u001b[0m\u001b[1;36m2\u001b[0m\u001b[1;33m)\u001b[0m\u001b[1;33m\u001b[0m\u001b[1;33m\u001b[0m\u001b[0m\n\u001b[0m",
      "\u001b[1;31mAttributeError\u001b[0m: 'tuple' object has no attribute 'find'"
     ]
    }
   ],
   "source": [
    "tupl.find(2)\n",
    "# in / not in"
   ]
  },
  {
   "cell_type": "code",
   "execution_count": 56,
   "id": "61dd0798",
   "metadata": {},
   "outputs": [],
   "source": [
    "tup_clr = (21, 65, 87, 37, 88.8, 94)"
   ]
  },
  {
   "cell_type": "code",
   "execution_count": 57,
   "id": "e4d4d756",
   "metadata": {
    "scrolled": true
   },
   "outputs": [
    {
     "ename": "AttributeError",
     "evalue": "'tuple' object has no attribute 'clear'",
     "output_type": "error",
     "traceback": [
      "\u001b[1;31m---------------------------------------------------------------------------\u001b[0m",
      "\u001b[1;31mAttributeError\u001b[0m                            Traceback (most recent call last)",
      "\u001b[1;32m<ipython-input-57-aaa8c5cf9c57>\u001b[0m in \u001b[0;36m<module>\u001b[1;34m\u001b[0m\n\u001b[1;32m----> 1\u001b[1;33m \u001b[0mtup_clr\u001b[0m\u001b[1;33m.\u001b[0m\u001b[0mclear\u001b[0m\u001b[1;33m(\u001b[0m\u001b[1;33m)\u001b[0m\u001b[1;33m\u001b[0m\u001b[1;33m\u001b[0m\u001b[0m\n\u001b[0m",
      "\u001b[1;31mAttributeError\u001b[0m: 'tuple' object has no attribute 'clear'"
     ]
    }
   ],
   "source": [
    "tup_clr.clear()"
   ]
  },
  {
   "cell_type": "code",
   "execution_count": null,
   "id": "8f29d075",
   "metadata": {},
   "outputs": [],
   "source": []
  },
  {
   "cell_type": "code",
   "execution_count": null,
   "id": "ffaceee0",
   "metadata": {},
   "outputs": [],
   "source": []
  },
  {
   "cell_type": "markdown",
   "id": "e9caa786",
   "metadata": {},
   "source": [
    "### Packing"
   ]
  },
  {
   "cell_type": "code",
   "execution_count": 13,
   "id": "12cb5533",
   "metadata": {},
   "outputs": [],
   "source": [
    "rs = \"Rohit\", 39, \"MUM\""
   ]
  },
  {
   "cell_type": "code",
   "execution_count": 14,
   "id": "c023f6b3",
   "metadata": {},
   "outputs": [
    {
     "data": {
      "text/plain": [
       "('Rohit', 39, 'MUM')"
      ]
     },
     "execution_count": 14,
     "metadata": {},
     "output_type": "execute_result"
    }
   ],
   "source": [
    "rs"
   ]
  },
  {
   "cell_type": "code",
   "execution_count": 15,
   "id": "84286d24",
   "metadata": {},
   "outputs": [
    {
     "data": {
      "text/plain": [
       "tuple"
      ]
     },
     "execution_count": 15,
     "metadata": {},
     "output_type": "execute_result"
    }
   ],
   "source": [
    "type(rs)"
   ]
  },
  {
   "cell_type": "code",
   "execution_count": 16,
   "id": "cbf590f2",
   "metadata": {},
   "outputs": [],
   "source": [
    "speed = \"fast\""
   ]
  },
  {
   "cell_type": "code",
   "execution_count": 17,
   "id": "4a9e680a",
   "metadata": {},
   "outputs": [
    {
     "data": {
      "text/plain": [
       "str"
      ]
     },
     "execution_count": 17,
     "metadata": {},
     "output_type": "execute_result"
    }
   ],
   "source": [
    "type(speed)"
   ]
  },
  {
   "cell_type": "code",
   "execution_count": 18,
   "id": "76a251dc",
   "metadata": {},
   "outputs": [],
   "source": [
    "speed = \"slow\","
   ]
  },
  {
   "cell_type": "code",
   "execution_count": 19,
   "id": "bbab0b69",
   "metadata": {},
   "outputs": [
    {
     "data": {
      "text/plain": [
       "tuple"
      ]
     },
     "execution_count": 19,
     "metadata": {},
     "output_type": "execute_result"
    }
   ],
   "source": [
    "type(speed)"
   ]
  },
  {
   "cell_type": "code",
   "execution_count": null,
   "id": "7d31b0a3",
   "metadata": {},
   "outputs": [],
   "source": []
  },
  {
   "cell_type": "markdown",
   "id": "927abd65",
   "metadata": {},
   "source": [
    "## Sets\n",
    "* A unique / no repetition  collection of IMMUTABLE items/objects \n",
    "* Syntax: { }\n",
    "* MUTABLE\n",
    "* unordered\n",
    "\n",
    "* set contains only int,float,complex,string,tuple\n",
    "\n",
    "**SET DOES NOT CONTAINS THE SET,DICT,LIST Inside SET  - mutable in set is not possible"
   ]
  },
  {
   "cell_type": "code",
   "execution_count": 160,
   "id": "96cff7d4",
   "metadata": {},
   "outputs": [],
   "source": [
    "set1 = {'st', 1, 21.6,True, (1, 2, 3)}"
   ]
  },
  {
   "cell_type": "code",
   "execution_count": 22,
   "id": "4f5a39de",
   "metadata": {},
   "outputs": [],
   "source": [
    "# repeatation are not allowed\n",
    "set1 = {'st', 1, 21.6, (1, 2, 3), 1, 'st'}"
   ]
  },
  {
   "cell_type": "code",
   "execution_count": 23,
   "id": "9cbe792c",
   "metadata": {},
   "outputs": [
    {
     "data": {
      "text/plain": [
       "{(1, 2, 3), 1, 21.6, 'st'}"
      ]
     },
     "execution_count": 23,
     "metadata": {},
     "output_type": "execute_result"
    }
   ],
   "source": [
    "set1"
   ]
  },
  {
   "cell_type": "code",
   "execution_count": 24,
   "id": "5206cdfd",
   "metadata": {},
   "outputs": [
    {
     "data": {
      "text/plain": [
       "{True, 44, 67.5}"
      ]
     },
     "execution_count": 24,
     "metadata": {},
     "output_type": "execute_result"
    }
   ],
   "source": [
    "st = {True, 44, 67.5}\n",
    "st"
   ]
  },
  {
   "cell_type": "code",
   "execution_count": 25,
   "id": "684b2e26",
   "metadata": {},
   "outputs": [
    {
     "data": {
      "text/plain": [
       "{21.5, False, True, 'st'}"
      ]
     },
     "execution_count": 25,
     "metadata": {},
     "output_type": "execute_result"
    }
   ],
   "source": [
    "s = {'st', True, False, 21.5}\n",
    "s"
   ]
  },
  {
   "cell_type": "code",
   "execution_count": 165,
   "id": "f08e2fc2",
   "metadata": {},
   "outputs": [
    {
     "ename": "TypeError",
     "evalue": "unhashable type: 'list'",
     "output_type": "error",
     "traceback": [
      "\u001b[1;31m---------------------------------------------------------------------------\u001b[0m",
      "\u001b[1;31mTypeError\u001b[0m                                 Traceback (most recent call last)",
      "\u001b[1;32m<ipython-input-165-5d4bbd18a571>\u001b[0m in \u001b[0;36m<module>\u001b[1;34m\u001b[0m\n\u001b[0;32m      1\u001b[0m \u001b[1;31m### We cant write List or Dictiories inside the set ( both are mutable)\u001b[0m\u001b[1;33m\u001b[0m\u001b[1;33m\u001b[0m\u001b[1;33m\u001b[0m\u001b[0m\n\u001b[0;32m      2\u001b[0m \u001b[1;33m\u001b[0m\u001b[0m\n\u001b[1;32m----> 3\u001b[1;33m \u001b[0ms\u001b[0m\u001b[1;33m=\u001b[0m\u001b[1;33m{\u001b[0m\u001b[1;36m32\u001b[0m\u001b[1;33m,\u001b[0m\u001b[1;36m47.4\u001b[0m\u001b[1;33m,\u001b[0m\u001b[1;32mTrue\u001b[0m\u001b[1;33m,\u001b[0m\u001b[1;33m[\u001b[0m\u001b[1;36m1\u001b[0m\u001b[1;33m,\u001b[0m\u001b[1;36m2\u001b[0m\u001b[1;33m,\u001b[0m\u001b[1;36m3\u001b[0m\u001b[1;33m]\u001b[0m\u001b[1;33m}\u001b[0m\u001b[1;33m\u001b[0m\u001b[1;33m\u001b[0m\u001b[0m\n\u001b[0m",
      "\u001b[1;31mTypeError\u001b[0m: unhashable type: 'list'"
     ]
    }
   ],
   "source": [
    "### We cant write List or Dictiories inside the set ( both are mutable)\n",
    "\n",
    "# LIST INSIDE THE SET\n",
    "s = {32, 47.4, True, [1, 2, 3]}"
   ]
  },
  {
   "cell_type": "code",
   "execution_count": 166,
   "id": "a9956121",
   "metadata": {},
   "outputs": [
    {
     "ename": "TypeError",
     "evalue": "unhashable type: 'dict'",
     "output_type": "error",
     "traceback": [
      "\u001b[1;31m---------------------------------------------------------------------------\u001b[0m",
      "\u001b[1;31mTypeError\u001b[0m                                 Traceback (most recent call last)",
      "\u001b[1;32m<ipython-input-166-6b7677675032>\u001b[0m in \u001b[0;36m<module>\u001b[1;34m\u001b[0m\n\u001b[1;32m----> 1\u001b[1;33m \u001b[0ms\u001b[0m\u001b[1;33m=\u001b[0m\u001b[1;33m{\u001b[0m\u001b[1;36m32\u001b[0m\u001b[1;33m,\u001b[0m\u001b[1;36m47.4\u001b[0m\u001b[1;33m,\u001b[0m\u001b[1;32mTrue\u001b[0m\u001b[1;33m,\u001b[0m\u001b[1;33m{\u001b[0m\u001b[1;34m'key'\u001b[0m\u001b[1;33m:\u001b[0m\u001b[1;34m'value'\u001b[0m\u001b[1;33m}\u001b[0m\u001b[1;33m}\u001b[0m\u001b[1;33m\u001b[0m\u001b[1;33m\u001b[0m\u001b[0m\n\u001b[0m",
      "\u001b[1;31mTypeError\u001b[0m: unhashable type: 'dict'"
     ]
    }
   ],
   "source": [
    "# DICT INSIDE THE SET\n",
    "s = {32, 47.4, True, {'key': 'value'}}"
   ]
  },
  {
   "cell_type": "code",
   "execution_count": 167,
   "id": "27a0c9c7",
   "metadata": {},
   "outputs": [
    {
     "ename": "TypeError",
     "evalue": "unhashable type: 'set'",
     "output_type": "error",
     "traceback": [
      "\u001b[1;31m---------------------------------------------------------------------------\u001b[0m",
      "\u001b[1;31mTypeError\u001b[0m                                 Traceback (most recent call last)",
      "\u001b[1;32m<ipython-input-167-f594f69efe62>\u001b[0m in \u001b[0;36m<module>\u001b[1;34m\u001b[0m\n\u001b[1;32m----> 1\u001b[1;33m \u001b[0mse\u001b[0m\u001b[1;33m=\u001b[0m\u001b[1;33m{\u001b[0m\u001b[1;36m1\u001b[0m\u001b[1;33m+\u001b[0m\u001b[1;36m2j\u001b[0m\u001b[1;33m,\u001b[0m\u001b[1;36m22\u001b[0m\u001b[1;33m,\u001b[0m\u001b[1;36m28\u001b[0m\u001b[1;33m,\u001b[0m\u001b[1;36m30.5\u001b[0m\u001b[1;33m,\u001b[0m\u001b[1;34m'set inside set'\u001b[0m\u001b[1;33m,\u001b[0m\u001b[1;33m{\u001b[0m\u001b[1;36m1\u001b[0m\u001b[1;33m,\u001b[0m\u001b[1;36m2\u001b[0m\u001b[1;33m,\u001b[0m\u001b[1;36m3\u001b[0m\u001b[1;33m,\u001b[0m\u001b[1;36m4\u001b[0m\u001b[1;33m}\u001b[0m\u001b[1;33m,\u001b[0m\u001b[1;34m'possible or not'\u001b[0m\u001b[1;33m}\u001b[0m\u001b[1;33m\u001b[0m\u001b[1;33m\u001b[0m\u001b[0m\n\u001b[0m",
      "\u001b[1;31mTypeError\u001b[0m: unhashable type: 'set'"
     ]
    }
   ],
   "source": [
    "# SET INSIDE SET\n",
    "se = {1 + 2j, 22, 28, 30.5, 'set inside set', {1, 2, 3, 4}, 'possible or not'}"
   ]
  },
  {
   "cell_type": "code",
   "execution_count": 168,
   "id": "28440b26",
   "metadata": {},
   "outputs": [],
   "source": [
    "s = {1 + 7j}"
   ]
  },
  {
   "cell_type": "code",
   "execution_count": 169,
   "id": "29bec9e9",
   "metadata": {},
   "outputs": [
    {
     "data": {
      "text/plain": [
       "set"
      ]
     },
     "execution_count": 169,
     "metadata": {},
     "output_type": "execute_result"
    }
   ],
   "source": [
    "#null Set\n",
    "s = set()\n",
    "type(s)"
   ]
  },
  {
   "cell_type": "code",
   "execution_count": 170,
   "id": "a64c8d13",
   "metadata": {},
   "outputs": [
    {
     "data": {
      "text/plain": [
       "{1, 2, 3, 4}"
      ]
     },
     "execution_count": 170,
     "metadata": {},
     "output_type": "execute_result"
    }
   ],
   "source": [
    "lst = [1, 2, 3, 4]\n",
    "set(lst)"
   ]
  },
  {
   "cell_type": "code",
   "execution_count": 171,
   "id": "25f1e151",
   "metadata": {},
   "outputs": [
    {
     "data": {
      "text/plain": [
       "{1, 2, 3, 4}"
      ]
     },
     "execution_count": 171,
     "metadata": {},
     "output_type": "execute_result"
    }
   ],
   "source": [
    "a = set(lst)\n",
    "a"
   ]
  },
  {
   "cell_type": "code",
   "execution_count": 172,
   "id": "ca173ac3",
   "metadata": {},
   "outputs": [
    {
     "data": {
      "text/plain": [
       "{1, 2, 3, 4, 5}"
      ]
     },
     "execution_count": 172,
     "metadata": {},
     "output_type": "execute_result"
    }
   ],
   "source": [
    "a.add(5)\n",
    "a"
   ]
  },
  {
   "cell_type": "code",
   "execution_count": 173,
   "id": "6a03ce60",
   "metadata": {},
   "outputs": [
    {
     "data": {
      "text/plain": [
       "{('str', 1, 32.2), 1, 2, 3, 4, 5}"
      ]
     },
     "execution_count": 173,
     "metadata": {},
     "output_type": "execute_result"
    }
   ],
   "source": [
    "# add takes one argument only i.e Tuple or int or float or complex or string\n",
    "a.add(('str', 1, 32.2))\n",
    "a"
   ]
  },
  {
   "cell_type": "code",
   "execution_count": 23,
   "id": "4d949fc2",
   "metadata": {},
   "outputs": [
    {
     "data": {
      "text/plain": [
       "{'A', 'B', 'E', 'G', 'L', 'N', 'O', 'R'}"
      ]
     },
     "execution_count": 23,
     "metadata": {},
     "output_type": "execute_result"
    }
   ],
   "source": [
    "c = set('BANGLORE')\n",
    "c"
   ]
  },
  {
   "cell_type": "code",
   "execution_count": 24,
   "id": "eb50143d",
   "metadata": {},
   "outputs": [
    {
     "data": {
      "text/plain": [
       "{'A', 'E', 'G', 'I', 'N', 'O', 'P', 'R', 'S'}"
      ]
     },
     "execution_count": 24,
     "metadata": {},
     "output_type": "execute_result"
    }
   ],
   "source": [
    "d = set('SINGAPORE')\n",
    "d"
   ]
  },
  {
   "cell_type": "code",
   "execution_count": null,
   "id": "f87ace55",
   "metadata": {},
   "outputs": [],
   "source": [
    "######################### by operators    ################"
   ]
  },
  {
   "cell_type": "code",
   "execution_count": 25,
   "id": "7f9832c3",
   "metadata": {},
   "outputs": [
    {
     "data": {
      "text/plain": [
       "{'A', 'B', 'E', 'G', 'I', 'L', 'N', 'O', 'P', 'R', 'S'}"
      ]
     },
     "execution_count": 25,
     "metadata": {},
     "output_type": "execute_result"
    }
   ],
   "source": [
    "# c or d --- union\n",
    "c | d"
   ]
  },
  {
   "cell_type": "code",
   "execution_count": 26,
   "id": "773b59e1",
   "metadata": {},
   "outputs": [
    {
     "data": {
      "text/plain": [
       "{'A', 'E', 'G', 'N', 'O', 'R'}"
      ]
     },
     "execution_count": 26,
     "metadata": {},
     "output_type": "execute_result"
    }
   ],
   "source": [
    "## c and d -- intersection\n",
    "c & d"
   ]
  },
  {
   "cell_type": "code",
   "execution_count": 27,
   "id": "73ba4cea",
   "metadata": {},
   "outputs": [
    {
     "data": {
      "text/plain": [
       "{'B', 'L'}"
      ]
     },
     "execution_count": 27,
     "metadata": {},
     "output_type": "execute_result"
    }
   ],
   "source": [
    "### c-d (unique in c)\n",
    "c - d"
   ]
  },
  {
   "cell_type": "code",
   "execution_count": 28,
   "id": "6a10258f",
   "metadata": {},
   "outputs": [
    {
     "data": {
      "text/plain": [
       "{'I', 'P', 'S'}"
      ]
     },
     "execution_count": 28,
     "metadata": {},
     "output_type": "execute_result"
    }
   ],
   "source": [
    "# d-c unique in d\n",
    "d - c"
   ]
  },
  {
   "cell_type": "code",
   "execution_count": null,
   "id": "0ccbaaf9",
   "metadata": {},
   "outputs": [],
   "source": [
    "################# functions ###########################"
   ]
  },
  {
   "cell_type": "code",
   "execution_count": 29,
   "id": "a4ad9814",
   "metadata": {},
   "outputs": [
    {
     "data": {
      "text/plain": [
       "{'A', 'B', 'E', 'G', 'I', 'L', 'N', 'O', 'P', 'R', 'S'}"
      ]
     },
     "execution_count": 29,
     "metadata": {},
     "output_type": "execute_result"
    }
   ],
   "source": [
    "c.union(d)"
   ]
  },
  {
   "cell_type": "code",
   "execution_count": 30,
   "id": "f1c0a7fb",
   "metadata": {},
   "outputs": [
    {
     "data": {
      "text/plain": [
       "{'A', 'E', 'G', 'N', 'O', 'R'}"
      ]
     },
     "execution_count": 30,
     "metadata": {},
     "output_type": "execute_result"
    }
   ],
   "source": [
    "c.intersection(d)"
   ]
  },
  {
   "cell_type": "code",
   "execution_count": 31,
   "id": "383a5de3",
   "metadata": {},
   "outputs": [
    {
     "data": {
      "text/plain": [
       "{'B', 'L'}"
      ]
     },
     "execution_count": 31,
     "metadata": {},
     "output_type": "execute_result"
    }
   ],
   "source": [
    "c.difference(d)"
   ]
  },
  {
   "cell_type": "code",
   "execution_count": 32,
   "id": "87e06cc1",
   "metadata": {},
   "outputs": [
    {
     "data": {
      "text/plain": [
       "{'I', 'P', 'S'}"
      ]
     },
     "execution_count": 32,
     "metadata": {},
     "output_type": "execute_result"
    }
   ],
   "source": [
    "d.difference(c)"
   ]
  },
  {
   "cell_type": "code",
   "execution_count": 33,
   "id": "bab0358d",
   "metadata": {},
   "outputs": [
    {
     "data": {
      "text/plain": [
       "11"
      ]
     },
     "execution_count": 33,
     "metadata": {},
     "output_type": "execute_result"
    }
   ],
   "source": [
    "len(c | d)"
   ]
  },
  {
   "cell_type": "code",
   "execution_count": 34,
   "id": "39e01cdc",
   "metadata": {},
   "outputs": [
    {
     "data": {
      "text/plain": [
       "2"
      ]
     },
     "execution_count": 34,
     "metadata": {},
     "output_type": "execute_result"
    }
   ],
   "source": [
    "len(c - d)"
   ]
  },
  {
   "cell_type": "code",
   "execution_count": null,
   "id": "9aa26cde",
   "metadata": {},
   "outputs": [],
   "source": []
  },
  {
   "cell_type": "code",
   "execution_count": 175,
   "id": "5dabdd13",
   "metadata": {},
   "outputs": [
    {
     "data": {
      "text/plain": [
       "{('str', 1, 32.2), 1, 2, 3, 4, 43, 45, 5, 77, 78}"
      ]
     },
     "execution_count": 175,
     "metadata": {},
     "output_type": "execute_result"
    }
   ],
   "source": [
    "# union\n",
    "b = {77, 43, 78, 45}\n",
    "\n",
    "a.union(b)"
   ]
  },
  {
   "cell_type": "code",
   "execution_count": 176,
   "id": "dcb87018",
   "metadata": {},
   "outputs": [
    {
     "data": {
      "text/plain": [
       "set()"
      ]
     },
     "execution_count": 176,
     "metadata": {},
     "output_type": "execute_result"
    }
   ],
   "source": [
    "#intersection\n",
    "a & b"
   ]
  },
  {
   "cell_type": "code",
   "execution_count": 177,
   "id": "285db3e7",
   "metadata": {},
   "outputs": [
    {
     "data": {
      "text/plain": [
       "{('str', 1, 32.2), 1, 2, 3, 4, 5}"
      ]
     },
     "execution_count": 177,
     "metadata": {},
     "output_type": "execute_result"
    }
   ],
   "source": [
    "# a-b - only in a\n",
    "\n",
    "a - b"
   ]
  },
  {
   "cell_type": "code",
   "execution_count": 178,
   "id": "470cc831",
   "metadata": {},
   "outputs": [
    {
     "data": {
      "text/plain": [
       "{43, 45, 77, 78}"
      ]
     },
     "execution_count": 178,
     "metadata": {},
     "output_type": "execute_result"
    }
   ],
   "source": [
    "#b-a - only in b\n",
    "b - a"
   ]
  },
  {
   "cell_type": "code",
   "execution_count": 174,
   "id": "775cc5bd",
   "metadata": {},
   "outputs": [
    {
     "ename": "TypeError",
     "evalue": "'set' object is not subscriptable",
     "output_type": "error",
     "traceback": [
      "\u001b[1;31m---------------------------------------------------------------------------\u001b[0m",
      "\u001b[1;31mTypeError\u001b[0m                                 Traceback (most recent call last)",
      "\u001b[1;32m<ipython-input-174-200bd0373f24>\u001b[0m in \u001b[0;36m<module>\u001b[1;34m\u001b[0m\n\u001b[0;32m      2\u001b[0m \u001b[1;31m# hence no question of reassign the value or slicing\u001b[0m\u001b[1;33m\u001b[0m\u001b[1;33m\u001b[0m\u001b[1;33m\u001b[0m\u001b[0m\n\u001b[0;32m      3\u001b[0m \u001b[1;33m\u001b[0m\u001b[0m\n\u001b[1;32m----> 4\u001b[1;33m \u001b[0ma\u001b[0m\u001b[1;33m[\u001b[0m\u001b[1;33m:\u001b[0m\u001b[1;33m:\u001b[0m\u001b[1;33m-\u001b[0m\u001b[1;36m1\u001b[0m\u001b[1;33m]\u001b[0m\u001b[1;33m\u001b[0m\u001b[1;33m\u001b[0m\u001b[0m\n\u001b[0m",
      "\u001b[1;31mTypeError\u001b[0m: 'set' object is not subscriptable"
     ]
    }
   ],
   "source": [
    "# Indexing is not allowed in Set\n",
    "# hence no question of reassign the value or slicing\n",
    "\n",
    "a[::-1]"
   ]
  },
  {
   "cell_type": "code",
   "execution_count": 179,
   "id": "f25d23b3",
   "metadata": {},
   "outputs": [
    {
     "data": {
      "text/plain": [
       "{('str', 1, 32.2), 1, 101, 111, 112, 113, 2, 3, 4, 5}"
      ]
     },
     "execution_count": 179,
     "metadata": {},
     "output_type": "execute_result"
    }
   ],
   "source": [
    "# takes 1 argument but as diff element like extend in list\n",
    "a.update((101, 111, 112, 113))\n",
    "a"
   ]
  },
  {
   "cell_type": "code",
   "execution_count": 180,
   "id": "5cd17038",
   "metadata": {},
   "outputs": [
    {
     "data": {
      "text/plain": [
       "{('str', 1, 32.2), 101, 111, 112, 113, 2, 3, 4, 5}"
      ]
     },
     "execution_count": 180,
     "metadata": {},
     "output_type": "execute_result"
    }
   ],
   "source": [
    "# removes arbitary value - takes no argument (pop takes index but in set indexing is not allowed)\n",
    "a.pop()\n",
    "a"
   ]
  },
  {
   "cell_type": "code",
   "execution_count": 181,
   "id": "a061df44",
   "metadata": {},
   "outputs": [
    {
     "ename": "TypeError",
     "evalue": "pop() takes no arguments (1 given)",
     "output_type": "error",
     "traceback": [
      "\u001b[1;31m---------------------------------------------------------------------------\u001b[0m",
      "\u001b[1;31mTypeError\u001b[0m                                 Traceback (most recent call last)",
      "\u001b[1;32m<ipython-input-181-e39b02aae068>\u001b[0m in \u001b[0;36m<module>\u001b[1;34m\u001b[0m\n\u001b[1;32m----> 1\u001b[1;33m \u001b[0ma\u001b[0m\u001b[1;33m.\u001b[0m\u001b[0mpop\u001b[0m\u001b[1;33m(\u001b[0m\u001b[1;36m0\u001b[0m\u001b[1;33m)\u001b[0m\u001b[1;33m\u001b[0m\u001b[1;33m\u001b[0m\u001b[0m\n\u001b[0m\u001b[0;32m      2\u001b[0m \u001b[0ma\u001b[0m\u001b[1;33m\u001b[0m\u001b[1;33m\u001b[0m\u001b[0m\n",
      "\u001b[1;31mTypeError\u001b[0m: pop() takes no arguments (1 given)"
     ]
    }
   ],
   "source": [
    "a.pop(0)\n",
    "a"
   ]
  },
  {
   "cell_type": "code",
   "execution_count": 182,
   "id": "f0869418",
   "metadata": {},
   "outputs": [
    {
     "data": {
      "text/plain": [
       "9"
      ]
     },
     "execution_count": 182,
     "metadata": {},
     "output_type": "execute_result"
    }
   ],
   "source": [
    "len(a)"
   ]
  },
  {
   "cell_type": "code",
   "execution_count": 183,
   "id": "396915e1",
   "metadata": {},
   "outputs": [],
   "source": [
    "a.clear()"
   ]
  },
  {
   "cell_type": "code",
   "execution_count": 184,
   "id": "a28f33f3",
   "metadata": {},
   "outputs": [
    {
     "data": {
      "text/plain": [
       "set()"
      ]
     },
     "execution_count": 184,
     "metadata": {},
     "output_type": "execute_result"
    }
   ],
   "source": [
    "a"
   ]
  },
  {
   "cell_type": "code",
   "execution_count": 185,
   "id": "4e109c26",
   "metadata": {},
   "outputs": [
    {
     "data": {
      "text/plain": [
       "{43, 45, 77}"
      ]
     },
     "execution_count": 185,
     "metadata": {},
     "output_type": "execute_result"
    }
   ],
   "source": [
    "b = {77, 43, 78, 45}\n",
    "\n",
    "b.remove(78)\n",
    "b"
   ]
  },
  {
   "cell_type": "code",
   "execution_count": 186,
   "id": "6ad4002d",
   "metadata": {},
   "outputs": [
    {
     "data": {
      "text/plain": [
       "534"
      ]
     },
     "execution_count": 186,
     "metadata": {},
     "output_type": "execute_result"
    }
   ],
   "source": [
    "set_max = {3, 56, 76, 23, 43.22, 168, 534, 45, 59, 32, 34.9}\n",
    "\n",
    "max(set_max)"
   ]
  },
  {
   "cell_type": "code",
   "execution_count": 188,
   "id": "1ea943e5",
   "metadata": {},
   "outputs": [
    {
     "data": {
      "text/plain": [
       "3"
      ]
     },
     "execution_count": 188,
     "metadata": {},
     "output_type": "execute_result"
    }
   ],
   "source": [
    "set_min = {3, 56, 76, 23, 43.22, 168, 534, 45, 59, 32, 34.9}\n",
    "\n",
    "min(set_min)"
   ]
  },
  {
   "cell_type": "code",
   "execution_count": 26,
   "id": "b8545fed",
   "metadata": {},
   "outputs": [],
   "source": [
    "set = {3, 56, 76, 23, 43.22, 168, 534, 45, 59, 32, 34.9}"
   ]
  },
  {
   "cell_type": "code",
   "execution_count": 27,
   "id": "dc5b24a5",
   "metadata": {},
   "outputs": [
    {
     "ename": "AttributeError",
     "evalue": "'set' object has no attribute 'find'",
     "output_type": "error",
     "traceback": [
      "\u001b[1;31m---------------------------------------------------------------------------\u001b[0m",
      "\u001b[1;31mAttributeError\u001b[0m                            Traceback (most recent call last)",
      "\u001b[1;32m<ipython-input-27-c754d77e826f>\u001b[0m in \u001b[0;36m<module>\u001b[1;34m\u001b[0m\n\u001b[1;32m----> 1\u001b[1;33m \u001b[0mset\u001b[0m\u001b[1;33m.\u001b[0m\u001b[0mfind\u001b[0m\u001b[1;33m(\u001b[0m\u001b[1;36m3\u001b[0m\u001b[1;33m)\u001b[0m\u001b[1;33m\u001b[0m\u001b[1;33m\u001b[0m\u001b[0m\n\u001b[0m",
      "\u001b[1;31mAttributeError\u001b[0m: 'set' object has no attribute 'find'"
     ]
    }
   ],
   "source": [
    "set.find(3)"
   ]
  },
  {
   "cell_type": "code",
   "execution_count": 28,
   "id": "49b87321",
   "metadata": {},
   "outputs": [
    {
     "data": {
      "text/plain": [
       "True"
      ]
     },
     "execution_count": 28,
     "metadata": {},
     "output_type": "execute_result"
    }
   ],
   "source": [
    "3 in set"
   ]
  },
  {
   "cell_type": "code",
   "execution_count": 29,
   "id": "157699ff",
   "metadata": {},
   "outputs": [
    {
     "data": {
      "text/plain": [
       "{3, 23, 32, 34.9, 43.22, 45, 56, 59, 76, 168, 534}"
      ]
     },
     "execution_count": 29,
     "metadata": {},
     "output_type": "execute_result"
    }
   ],
   "source": [
    "set_cpy = set.copy()\n",
    "set_cpy"
   ]
  },
  {
   "cell_type": "code",
   "execution_count": 30,
   "id": "f647e9cd",
   "metadata": {},
   "outputs": [
    {
     "ename": "AttributeError",
     "evalue": "'set' object has no attribute 'count'",
     "output_type": "error",
     "traceback": [
      "\u001b[1;31m---------------------------------------------------------------------------\u001b[0m",
      "\u001b[1;31mAttributeError\u001b[0m                            Traceback (most recent call last)",
      "\u001b[1;32m<ipython-input-30-2d2033b4065c>\u001b[0m in \u001b[0;36m<module>\u001b[1;34m\u001b[0m\n\u001b[1;32m----> 1\u001b[1;33m \u001b[0mset\u001b[0m\u001b[1;33m.\u001b[0m\u001b[0mcount\u001b[0m\u001b[1;33m(\u001b[0m\u001b[1;36m3\u001b[0m\u001b[1;33m)\u001b[0m\u001b[1;33m\u001b[0m\u001b[1;33m\u001b[0m\u001b[0m\n\u001b[0m",
      "\u001b[1;31mAttributeError\u001b[0m: 'set' object has no attribute 'count'"
     ]
    }
   ],
   "source": [
    "# always Unique - hence no\n",
    "set.count(3)"
   ]
  },
  {
   "cell_type": "code",
   "execution_count": 31,
   "id": "f38e432b",
   "metadata": {},
   "outputs": [],
   "source": [
    "a = {1, 2, 3, 4, 5}\n",
    "b = {4, 5, 6, 7, 8}"
   ]
  },
  {
   "cell_type": "code",
   "execution_count": 32,
   "id": "72247ef4",
   "metadata": {},
   "outputs": [
    {
     "ename": "TypeError",
     "evalue": "unsupported operand type(s) for +: 'set' and 'set'",
     "output_type": "error",
     "traceback": [
      "\u001b[1;31m---------------------------------------------------------------------------\u001b[0m",
      "\u001b[1;31mTypeError\u001b[0m                                 Traceback (most recent call last)",
      "\u001b[1;32m<ipython-input-32-ca730b97bf8a>\u001b[0m in \u001b[0;36m<module>\u001b[1;34m\u001b[0m\n\u001b[1;32m----> 1\u001b[1;33m \u001b[0ma\u001b[0m\u001b[1;33m+\u001b[0m\u001b[0mb\u001b[0m\u001b[1;33m\u001b[0m\u001b[1;33m\u001b[0m\u001b[0m\n\u001b[0m",
      "\u001b[1;31mTypeError\u001b[0m: unsupported operand type(s) for +: 'set' and 'set'"
     ]
    }
   ],
   "source": [
    "a + b"
   ]
  },
  {
   "cell_type": "code",
   "execution_count": 33,
   "id": "4b042b72",
   "metadata": {},
   "outputs": [
    {
     "data": {
      "text/plain": [
       "{1, 2, 3}"
      ]
     },
     "execution_count": 33,
     "metadata": {},
     "output_type": "execute_result"
    }
   ],
   "source": [
    "a - b"
   ]
  },
  {
   "cell_type": "code",
   "execution_count": 35,
   "id": "9ba314fe",
   "metadata": {},
   "outputs": [
    {
     "ename": "TypeError",
     "evalue": "unsupported operand type(s) for *: 'set' and 'int'",
     "output_type": "error",
     "traceback": [
      "\u001b[1;31m---------------------------------------------------------------------------\u001b[0m",
      "\u001b[1;31mTypeError\u001b[0m                                 Traceback (most recent call last)",
      "\u001b[1;32m<ipython-input-35-6542eb27059a>\u001b[0m in \u001b[0;36m<module>\u001b[1;34m\u001b[0m\n\u001b[1;32m----> 1\u001b[1;33m \u001b[0ma\u001b[0m\u001b[1;33m*\u001b[0m\u001b[1;36m3\u001b[0m\u001b[1;33m\u001b[0m\u001b[1;33m\u001b[0m\u001b[0m\n\u001b[0m",
      "\u001b[1;31mTypeError\u001b[0m: unsupported operand type(s) for *: 'set' and 'int'"
     ]
    }
   ],
   "source": [
    "a * 3"
   ]
  },
  {
   "cell_type": "code",
   "execution_count": 36,
   "id": "7aebfa94",
   "metadata": {},
   "outputs": [
    {
     "ename": "TypeError",
     "evalue": "unsupported operand type(s) for *: 'set' and 'set'",
     "output_type": "error",
     "traceback": [
      "\u001b[1;31m---------------------------------------------------------------------------\u001b[0m",
      "\u001b[1;31mTypeError\u001b[0m                                 Traceback (most recent call last)",
      "\u001b[1;32m<ipython-input-36-ac686954dc0d>\u001b[0m in \u001b[0;36m<module>\u001b[1;34m\u001b[0m\n\u001b[1;32m----> 1\u001b[1;33m \u001b[0ma\u001b[0m\u001b[1;33m*\u001b[0m\u001b[0ma\u001b[0m\u001b[1;33m\u001b[0m\u001b[1;33m\u001b[0m\u001b[0m\n\u001b[0m",
      "\u001b[1;31mTypeError\u001b[0m: unsupported operand type(s) for *: 'set' and 'set'"
     ]
    }
   ],
   "source": [
    "a * a"
   ]
  },
  {
   "cell_type": "code",
   "execution_count": 37,
   "id": "e4607459",
   "metadata": {},
   "outputs": [
    {
     "ename": "TypeError",
     "evalue": "unsupported operand type(s) for +: 'set' and 'int'",
     "output_type": "error",
     "traceback": [
      "\u001b[1;31m---------------------------------------------------------------------------\u001b[0m",
      "\u001b[1;31mTypeError\u001b[0m                                 Traceback (most recent call last)",
      "\u001b[1;32m<ipython-input-37-bf58c781999a>\u001b[0m in \u001b[0;36m<module>\u001b[1;34m\u001b[0m\n\u001b[1;32m----> 1\u001b[1;33m \u001b[0ma\u001b[0m\u001b[1;33m+\u001b[0m\u001b[1;36m3\u001b[0m\u001b[1;33m\u001b[0m\u001b[1;33m\u001b[0m\u001b[0m\n\u001b[0m",
      "\u001b[1;31mTypeError\u001b[0m: unsupported operand type(s) for +: 'set' and 'int'"
     ]
    }
   ],
   "source": [
    "a + 3"
   ]
  },
  {
   "cell_type": "code",
   "execution_count": 38,
   "id": "ee91c05c",
   "metadata": {},
   "outputs": [],
   "source": [
    "sorted_set = sorted(a)"
   ]
  },
  {
   "cell_type": "code",
   "execution_count": 39,
   "id": "80deabe5",
   "metadata": {},
   "outputs": [
    {
     "data": {
      "text/plain": [
       "[1, 2, 3, 4, 5]"
      ]
     },
     "execution_count": 39,
     "metadata": {},
     "output_type": "execute_result"
    }
   ],
   "source": [
    "sorted_set"
   ]
  },
  {
   "cell_type": "code",
   "execution_count": 41,
   "id": "a3118c0d",
   "metadata": {},
   "outputs": [
    {
     "ename": "AttributeError",
     "evalue": "'set' object has no attribute 'reverse'",
     "output_type": "error",
     "traceback": [
      "\u001b[1;31m---------------------------------------------------------------------------\u001b[0m",
      "\u001b[1;31mAttributeError\u001b[0m                            Traceback (most recent call last)",
      "\u001b[1;32m<ipython-input-41-3c908c3250ef>\u001b[0m in \u001b[0;36m<module>\u001b[1;34m\u001b[0m\n\u001b[1;32m----> 1\u001b[1;33m \u001b[0mser_rev\u001b[0m\u001b[1;33m=\u001b[0m\u001b[0ma\u001b[0m\u001b[1;33m.\u001b[0m\u001b[0mreverse\u001b[0m\u001b[1;33m(\u001b[0m\u001b[1;33m)\u001b[0m\u001b[1;33m\u001b[0m\u001b[1;33m\u001b[0m\u001b[0m\n\u001b[0m",
      "\u001b[1;31mAttributeError\u001b[0m: 'set' object has no attribute 'reverse'"
     ]
    }
   ],
   "source": [
    "ser_rev = a.reverse()"
   ]
  },
  {
   "cell_type": "code",
   "execution_count": 42,
   "id": "86380963",
   "metadata": {},
   "outputs": [
    {
     "data": {
      "text/plain": [
       "[(0, 1), (1, 2), (2, 3), (3, 4), (4, 5)]"
      ]
     },
     "execution_count": 42,
     "metadata": {},
     "output_type": "execute_result"
    }
   ],
   "source": [
    "a = {1, 2, 3, 4, 5}\n",
    "list(enumerate(a))"
   ]
  },
  {
   "cell_type": "code",
   "execution_count": 44,
   "id": "74d71221",
   "metadata": {},
   "outputs": [],
   "source": [
    "del b"
   ]
  },
  {
   "cell_type": "code",
   "execution_count": 45,
   "id": "54d3797d",
   "metadata": {},
   "outputs": [
    {
     "ename": "NameError",
     "evalue": "name 'b' is not defined",
     "output_type": "error",
     "traceback": [
      "\u001b[1;31m---------------------------------------------------------------------------\u001b[0m",
      "\u001b[1;31mNameError\u001b[0m                                 Traceback (most recent call last)",
      "\u001b[1;32m<ipython-input-45-89e6c98d9288>\u001b[0m in \u001b[0;36m<module>\u001b[1;34m\u001b[0m\n\u001b[1;32m----> 1\u001b[1;33m \u001b[0mb\u001b[0m\u001b[1;33m\u001b[0m\u001b[1;33m\u001b[0m\u001b[0m\n\u001b[0m",
      "\u001b[1;31mNameError\u001b[0m: name 'b' is not defined"
     ]
    }
   ],
   "source": [
    "b"
   ]
  },
  {
   "cell_type": "code",
   "execution_count": 46,
   "id": "54abb5a7",
   "metadata": {},
   "outputs": [],
   "source": []
  },
  {
   "cell_type": "code",
   "execution_count": null,
   "id": "34f844bd",
   "metadata": {},
   "outputs": [],
   "source": []
  },
  {
   "cell_type": "code",
   "execution_count": null,
   "id": "c09b4a3f",
   "metadata": {},
   "outputs": [],
   "source": []
  },
  {
   "cell_type": "markdown",
   "id": "f47ed562",
   "metadata": {},
   "source": [
    "## Dictionaries\n",
    "* Collection of key - value pairs\n",
    "* Syntax: { }\n",
    "* MUTABLE\n",
    "* Collection of {K1: V1, K2: V2, K3: V3}\n",
    "* Example: {RN1: N1, RN2: N2, RN3: N3}\n",
    "* Maps, Hash Maps"
   ]
  },
  {
   "cell_type": "code",
   "execution_count": 189,
   "id": "e057a2b7",
   "metadata": {},
   "outputs": [
    {
     "data": {
      "text/plain": [
       "dict"
      ]
     },
     "execution_count": 189,
     "metadata": {},
     "output_type": "execute_result"
    }
   ],
   "source": [
    "# empty dict\n",
    "dict = {}\n",
    "type(dict)"
   ]
  },
  {
   "cell_type": "code",
   "execution_count": 190,
   "id": "6572b69d",
   "metadata": {},
   "outputs": [
    {
     "data": {
      "text/plain": [
       "{'sanjay': [30, 35], 'ram': [25, 30]}"
      ]
     },
     "execution_count": 190,
     "metadata": {},
     "output_type": "execute_result"
    }
   ],
   "source": [
    "emp = {\"sanjay\": [30, 35], \"ram\": [25, 30]}\n",
    "\n",
    "emp"
   ]
  },
  {
   "cell_type": "code",
   "execution_count": 191,
   "id": "c19db2d9",
   "metadata": {},
   "outputs": [],
   "source": [
    "emp_2 = {\"sanjay\": [31, 37], \"nitin\": [22, 25], \"subodh\": [20, 22]}"
   ]
  },
  {
   "cell_type": "code",
   "execution_count": 192,
   "id": "3604c7f1",
   "metadata": {},
   "outputs": [],
   "source": [
    "emp.update(emp_2)"
   ]
  },
  {
   "cell_type": "code",
   "execution_count": 193,
   "id": "b750dd1e",
   "metadata": {},
   "outputs": [
    {
     "data": {
      "text/plain": [
       "{'sanjay': [31, 37], 'ram': [25, 30], 'nitin': [22, 25], 'subodh': [20, 22]}"
      ]
     },
     "execution_count": 193,
     "metadata": {},
     "output_type": "execute_result"
    }
   ],
   "source": [
    "emp"
   ]
  },
  {
   "cell_type": "code",
   "execution_count": null,
   "id": "91136318",
   "metadata": {},
   "outputs": [],
   "source": [
    "### Accessing the Dictonary - accessed by Key - Dict['Key']"
   ]
  },
  {
   "cell_type": "code",
   "execution_count": 201,
   "id": "d75c0b90",
   "metadata": {},
   "outputs": [],
   "source": [
    "dict1 = { \"name\": \"Pankaj\", \n",
    "         1: [1, 2, 3], \n",
    "         2: 34, \n",
    "         'Ram': {1: 5, 7: 'notes'},\n",
    "         'days': ['Sunday', 'Monday'] }"
   ]
  },
  {
   "cell_type": "code",
   "execution_count": 202,
   "id": "022e1b59",
   "metadata": {},
   "outputs": [
    {
     "data": {
      "text/plain": [
       "'Pankaj'"
      ]
     },
     "execution_count": 202,
     "metadata": {},
     "output_type": "execute_result"
    }
   ],
   "source": [
    "dict1['name']"
   ]
  },
  {
   "cell_type": "code",
   "execution_count": 203,
   "id": "138b73e5",
   "metadata": {},
   "outputs": [
    {
     "data": {
      "text/plain": [
       "['Sunday', 'Monday']"
      ]
     },
     "execution_count": 203,
     "metadata": {},
     "output_type": "execute_result"
    }
   ],
   "source": [
    "dict1['days']"
   ]
  },
  {
   "cell_type": "code",
   "execution_count": null,
   "id": "8c1638d2",
   "metadata": {},
   "outputs": [],
   "source": [
    "# assigning / altering /modifing + adding"
   ]
  },
  {
   "cell_type": "code",
   "execution_count": 204,
   "id": "021a39c7",
   "metadata": {},
   "outputs": [
    {
     "data": {
      "text/plain": [
       "{'name': ' Rohit Sharma',\n",
       " 1: [1, 2, 3],\n",
       " 2: 34,\n",
       " 'Ram': {1: 5, 7: 'notes'},\n",
       " 'days': ['Sunday', 'Monday'],\n",
       " 'city': ['Pune', 'Aurangabad', 'Hyderabad']}"
      ]
     },
     "execution_count": 204,
     "metadata": {},
     "output_type": "execute_result"
    }
   ],
   "source": [
    "dict1['name'] = ' Rohit Sharma'\n",
    "dict1['city'] = ['Pune', 'Aurangabad', 'Hyderabad']\n",
    "\n",
    "dict1"
   ]
  },
  {
   "cell_type": "code",
   "execution_count": 205,
   "id": "fb6da342",
   "metadata": {},
   "outputs": [
    {
     "data": {
      "text/plain": [
       "'notes'"
      ]
     },
     "execution_count": 205,
     "metadata": {},
     "output_type": "execute_result"
    }
   ],
   "source": [
    "# accessing dict inside dict\n",
    "dict1['Ram'][7]"
   ]
  },
  {
   "cell_type": "code",
   "execution_count": 206,
   "id": "d16e0668",
   "metadata": {},
   "outputs": [],
   "source": [
    "del dict1"
   ]
  },
  {
   "cell_type": "code",
   "execution_count": 207,
   "id": "61982a4a",
   "metadata": {},
   "outputs": [
    {
     "ename": "NameError",
     "evalue": "name 'dict1' is not defined",
     "output_type": "error",
     "traceback": [
      "\u001b[1;31m---------------------------------------------------------------------------\u001b[0m",
      "\u001b[1;31mNameError\u001b[0m                                 Traceback (most recent call last)",
      "\u001b[1;32m<ipython-input-207-e36219336d90>\u001b[0m in \u001b[0;36m<module>\u001b[1;34m\u001b[0m\n\u001b[1;32m----> 1\u001b[1;33m \u001b[0mdict1\u001b[0m\u001b[1;33m\u001b[0m\u001b[1;33m\u001b[0m\u001b[0m\n\u001b[0m",
      "\u001b[1;31mNameError\u001b[0m: name 'dict1' is not defined"
     ]
    }
   ],
   "source": [
    "dict1"
   ]
  },
  {
   "cell_type": "code",
   "execution_count": 209,
   "id": "fcfe1471",
   "metadata": {},
   "outputs": [
    {
     "data": {
      "text/plain": [
       "{}"
      ]
     },
     "execution_count": 209,
     "metadata": {},
     "output_type": "execute_result"
    }
   ],
   "source": [
    "dict()"
   ]
  },
  {
   "cell_type": "code",
   "execution_count": null,
   "id": "c6031b7a",
   "metadata": {},
   "outputs": [],
   "source": [
    "## Various Methods on Dictonary"
   ]
  },
  {
   "cell_type": "code",
   "execution_count": 210,
   "id": "7a699d44",
   "metadata": {},
   "outputs": [],
   "source": [
    "dict1 = {\n",
    "    'a': ['Apple', 'Arm', 'Angle', 'Alok'],\n",
    "    'b': ['Banana', \"Butter\", 'Bold', 'Bike'],\n",
    "    'c': ['Cat', 'Cow', 'Chill', 'Camera'],\n",
    "    'd': ['Don', 'Dairy', 'Dog', 'Deep']\n",
    "}"
   ]
  },
  {
   "cell_type": "code",
   "execution_count": 211,
   "id": "3bb3be98",
   "metadata": {},
   "outputs": [
    {
     "data": {
      "text/plain": [
       "['Apple', 'Arm', 'Angle', 'Alok']"
      ]
     },
     "execution_count": 211,
     "metadata": {},
     "output_type": "execute_result"
    }
   ],
   "source": [
    "dict1.get('a')"
   ]
  },
  {
   "cell_type": "code",
   "execution_count": 212,
   "id": "f6d6f3bf",
   "metadata": {},
   "outputs": [
    {
     "data": {
      "text/plain": [
       "'Huh?'"
      ]
     },
     "execution_count": 212,
     "metadata": {},
     "output_type": "execute_result"
    }
   ],
   "source": [
    "dict1.get(1, 'Huh?')"
   ]
  },
  {
   "cell_type": "code",
   "execution_count": 213,
   "id": "81a52a5a",
   "metadata": {},
   "outputs": [
    {
     "data": {
      "text/plain": [
       "'No key present'"
      ]
     },
     "execution_count": 213,
     "metadata": {},
     "output_type": "execute_result"
    }
   ],
   "source": [
    "dict1.get('app', 'No key present')"
   ]
  },
  {
   "cell_type": "code",
   "execution_count": null,
   "id": "f895cb38",
   "metadata": {},
   "outputs": [],
   "source": [
    "# above 1 & app keys are not present in dict1,returns none/specified value but not the error\n",
    "# if we try assessing throws error as below"
   ]
  },
  {
   "cell_type": "code",
   "execution_count": 214,
   "id": "d207e531",
   "metadata": {},
   "outputs": [
    {
     "ename": "KeyError",
     "evalue": "1",
     "output_type": "error",
     "traceback": [
      "\u001b[1;31m---------------------------------------------------------------------------\u001b[0m",
      "\u001b[1;31mKeyError\u001b[0m                                  Traceback (most recent call last)",
      "\u001b[1;32m<ipython-input-214-7f8d9d8ed4b0>\u001b[0m in \u001b[0;36m<module>\u001b[1;34m\u001b[0m\n\u001b[1;32m----> 1\u001b[1;33m \u001b[0mdict1\u001b[0m\u001b[1;33m[\u001b[0m\u001b[1;36m1\u001b[0m\u001b[1;33m]\u001b[0m\u001b[1;33m\u001b[0m\u001b[1;33m\u001b[0m\u001b[0m\n\u001b[0m",
      "\u001b[1;31mKeyError\u001b[0m: 1"
     ]
    }
   ],
   "source": [
    "dict1[1]"
   ]
  },
  {
   "cell_type": "code",
   "execution_count": 215,
   "id": "ab556b22",
   "metadata": {},
   "outputs": [
    {
     "ename": "KeyError",
     "evalue": "'app'",
     "output_type": "error",
     "traceback": [
      "\u001b[1;31m---------------------------------------------------------------------------\u001b[0m",
      "\u001b[1;31mKeyError\u001b[0m                                  Traceback (most recent call last)",
      "\u001b[1;32m<ipython-input-215-9f2afd648695>\u001b[0m in \u001b[0;36m<module>\u001b[1;34m\u001b[0m\n\u001b[1;32m----> 1\u001b[1;33m \u001b[0mdict1\u001b[0m\u001b[1;33m[\u001b[0m\u001b[1;34m'app'\u001b[0m\u001b[1;33m]\u001b[0m\u001b[1;33m\u001b[0m\u001b[1;33m\u001b[0m\u001b[0m\n\u001b[0m",
      "\u001b[1;31mKeyError\u001b[0m: 'app'"
     ]
    }
   ],
   "source": [
    "dict1['app']"
   ]
  },
  {
   "cell_type": "code",
   "execution_count": null,
   "id": "946735f2",
   "metadata": {},
   "outputs": [],
   "source": [
    "################## Methods on Dict #######################"
   ]
  },
  {
   "cell_type": "code",
   "execution_count": 216,
   "id": "b16cc3b0",
   "metadata": {},
   "outputs": [
    {
     "data": {
      "text/plain": [
       "dict_keys(['a', 'b', 'c', 'd'])"
      ]
     },
     "execution_count": 216,
     "metadata": {},
     "output_type": "execute_result"
    }
   ],
   "source": [
    "dict1.keys()"
   ]
  },
  {
   "cell_type": "code",
   "execution_count": 217,
   "id": "ba8ef4e9",
   "metadata": {},
   "outputs": [
    {
     "data": {
      "text/plain": [
       "dict_values([['Apple', 'Arm', 'Angle', 'Alok'], ['Banana', 'Butter', 'Bold', 'Bike'], ['Cat', 'Cow', 'Chill', 'Camera'], ['Don', 'Dairy', 'Dog', 'Deep']])"
      ]
     },
     "execution_count": 217,
     "metadata": {},
     "output_type": "execute_result"
    }
   ],
   "source": [
    "dict1.values()"
   ]
  },
  {
   "cell_type": "code",
   "execution_count": 218,
   "id": "3f291d27",
   "metadata": {},
   "outputs": [
    {
     "data": {
      "text/plain": [
       "\"{'a': ['Apple', 'Arm', 'Angle', 'Alok'], 'b': ['Banana', 'Butter', 'Bold', 'Bike'], 'c': ['Cat', 'Cow', 'Chill', 'Camera'], 'd': ['Don', 'Dairy', 'Dog', 'Deep']}\""
      ]
     },
     "execution_count": 218,
     "metadata": {},
     "output_type": "execute_result"
    }
   ],
   "source": [
    "# converting dict in string for printing purpose\n",
    "str(dict1)"
   ]
  },
  {
   "cell_type": "code",
   "execution_count": 219,
   "id": "6b504e22",
   "metadata": {},
   "outputs": [
    {
     "name": "stdout",
     "output_type": "stream",
     "text": [
      "created a dict : {'God': 'ShriRam', 'Place': 'Ayodhya'}\n"
     ]
    }
   ],
   "source": [
    "d = {'God': 'ShriRam', 'Place': 'Ayodhya'}\n",
    "\n",
    "print('created a dict : ' + str(d))"
   ]
  },
  {
   "cell_type": "code",
   "execution_count": null,
   "id": "30c01c0a",
   "metadata": {},
   "outputs": [],
   "source": []
  },
  {
   "cell_type": "code",
   "execution_count": 220,
   "id": "87bfd883",
   "metadata": {},
   "outputs": [
    {
     "data": {
      "text/plain": [
       "dict_items([('a', ['Apple', 'Arm', 'Angle', 'Alok']), ('b', ['Banana', 'Butter', 'Bold', 'Bike']), ('c', ['Cat', 'Cow', 'Chill', 'Camera']), ('d', ['Don', 'Dairy', 'Dog', 'Deep'])])"
      ]
     },
     "execution_count": 220,
     "metadata": {},
     "output_type": "execute_result"
    }
   ],
   "source": [
    "# we get list for (key,value)\n",
    "dict1.items()"
   ]
  },
  {
   "cell_type": "code",
   "execution_count": 221,
   "id": "7e716260",
   "metadata": {},
   "outputs": [],
   "source": [
    "d = dict1.items()\n",
    "# done using enumarate not for loop"
   ]
  },
  {
   "cell_type": "code",
   "execution_count": 222,
   "id": "78dfb565",
   "metadata": {},
   "outputs": [
    {
     "ename": "TypeError",
     "evalue": "'dict_items' object is not subscriptable",
     "output_type": "error",
     "traceback": [
      "\u001b[1;31m---------------------------------------------------------------------------\u001b[0m",
      "\u001b[1;31mTypeError\u001b[0m                                 Traceback (most recent call last)",
      "\u001b[1;32m<ipython-input-222-03581d4028b1>\u001b[0m in \u001b[0;36m<module>\u001b[1;34m\u001b[0m\n\u001b[1;32m----> 1\u001b[1;33m \u001b[0md\u001b[0m\u001b[1;33m[\u001b[0m\u001b[1;36m0\u001b[0m\u001b[1;33m]\u001b[0m\u001b[1;33m[\u001b[0m\u001b[1;36m1\u001b[0m\u001b[1;33m]\u001b[0m\u001b[1;33m\u001b[0m\u001b[1;33m\u001b[0m\u001b[0m\n\u001b[0m",
      "\u001b[1;31mTypeError\u001b[0m: 'dict_items' object is not subscriptable"
     ]
    }
   ],
   "source": [
    "d[0][1]"
   ]
  },
  {
   "cell_type": "code",
   "execution_count": 223,
   "id": "a04ca5a2",
   "metadata": {},
   "outputs": [],
   "source": [
    "new_dict = {\n",
    "    'color': 'Red',\n",
    "    \"Sub\": 'Stats',\n",
    "    \"Teacher\": 'Somenath',\n",
    "    \"Place\": 'Pune',\n",
    "    'Marks': 'First Class',\n",
    "    1: 277\n",
    "}"
   ]
  },
  {
   "cell_type": "code",
   "execution_count": 224,
   "id": "7aac65d5",
   "metadata": {},
   "outputs": [
    {
     "data": {
      "text/plain": [
       "{'color': 'Red',\n",
       " 'Sub': 'Stats',\n",
       " 'Teacher': 'Somenath',\n",
       " 'Place': 'Pune',\n",
       " 'Marks': 'First Class',\n",
       " 1: 277,\n",
       " 'Placement': 'IBM'}"
      ]
     },
     "execution_count": 224,
     "metadata": {},
     "output_type": "execute_result"
    }
   ],
   "source": [
    "# inserting a new key 1 at a time setdefault(key,default='None')\n",
    "\n",
    "new_dict.setdefault('Placement', 'IBM')\n",
    "new_dict"
   ]
  },
  {
   "cell_type": "code",
   "execution_count": 225,
   "id": "522fc8ba",
   "metadata": {},
   "outputs": [
    {
     "data": {
      "text/plain": [
       "{'color': 'Red',\n",
       " 'Sub': 'Stats',\n",
       " 'Teacher': 'Somenath',\n",
       " 'Place': 'Pune',\n",
       " 'Marks': 'First Class',\n",
       " 1: 277,\n",
       " 'Placement': 'IBM',\n",
       " 'Mode': None}"
      ]
     },
     "execution_count": 225,
     "metadata": {},
     "output_type": "execute_result"
    }
   ],
   "source": [
    "new_dict.setdefault('Mode')\n",
    "new_dict"
   ]
  },
  {
   "cell_type": "code",
   "execution_count": 226,
   "id": "b6b1abb1",
   "metadata": {},
   "outputs": [
    {
     "data": {
      "text/plain": [
       "{1: 'Value', 2: 'Value', 3: 'Value', 4: 'Value', 5: 'Value'}"
      ]
     },
     "execution_count": 226,
     "metadata": {},
     "output_type": "execute_result"
    }
   ],
   "source": [
    "# creating dict from seq & assign value --- dict.fromkeys(seq,value)\n",
    "lst = [1, 2, 3, 4, 5]\n",
    "d = {}\n",
    "d.fromkeys(lst, 'Value')"
   ]
  },
  {
   "cell_type": "code",
   "execution_count": 227,
   "id": "d7c32f60",
   "metadata": {},
   "outputs": [
    {
     "data": {
      "text/plain": [
       "dict"
      ]
     },
     "execution_count": 227,
     "metadata": {},
     "output_type": "execute_result"
    }
   ],
   "source": [
    "type(new_dict)"
   ]
  },
  {
   "cell_type": "code",
   "execution_count": 228,
   "id": "fc52c914",
   "metadata": {},
   "outputs": [
    {
     "data": {
      "text/plain": [
       "{'color': 'Red',\n",
       " 'Sub': 'Stats',\n",
       " 'Teacher': 'Somenath',\n",
       " 'Place': 'Pune',\n",
       " 'Marks': 'First Class',\n",
       " 1: 277,\n",
       " 'Placement': 'IBM',\n",
       " 'Mode': None}"
      ]
     },
     "execution_count": 228,
     "metadata": {},
     "output_type": "execute_result"
    }
   ],
   "source": [
    "cpy = new_dict.copy()\n",
    "cpy"
   ]
  },
  {
   "cell_type": "code",
   "execution_count": 229,
   "id": "1a398437",
   "metadata": {},
   "outputs": [],
   "source": [
    "cpy.clear()"
   ]
  },
  {
   "cell_type": "code",
   "execution_count": 230,
   "id": "c1b2e0ac",
   "metadata": {},
   "outputs": [
    {
     "data": {
      "text/plain": [
       "{}"
      ]
     },
     "execution_count": 230,
     "metadata": {},
     "output_type": "execute_result"
    }
   ],
   "source": [
    "cpy"
   ]
  },
  {
   "cell_type": "code",
   "execution_count": 231,
   "id": "6eadcf22",
   "metadata": {},
   "outputs": [],
   "source": [
    "Dictionary1 = {\n",
    "    'A': 'Ahmedabad',\n",
    "    'B': 'Ball',\n",
    "    'C': 'Cricket',\n",
    "    'w': 'weither Normal',\n",
    "    'Type': 'ODI',\n",
    "    'overs': 50,\n",
    "    'ballers': 5\n",
    "}"
   ]
  },
  {
   "cell_type": "code",
   "execution_count": 232,
   "id": "0106502a",
   "metadata": {},
   "outputs": [
    {
     "data": {
      "text/plain": [
       "'Ball'"
      ]
     },
     "execution_count": 232,
     "metadata": {},
     "output_type": "execute_result"
    }
   ],
   "source": [
    "# removes Specified key & return corresponding Value\n",
    "Dictionary1.pop('B')"
   ]
  },
  {
   "cell_type": "code",
   "execution_count": 233,
   "id": "02b6b1e4",
   "metadata": {},
   "outputs": [
    {
     "data": {
      "text/plain": [
       "{'A': 'Ahmedabad',\n",
       " 'C': 'Cricket',\n",
       " 'w': 'weither Normal',\n",
       " 'Type': 'ODI',\n",
       " 'overs': 50,\n",
       " 'ballers': 5}"
      ]
     },
     "execution_count": 233,
     "metadata": {},
     "output_type": "execute_result"
    }
   ],
   "source": [
    "Dictionary1"
   ]
  },
  {
   "cell_type": "code",
   "execution_count": 234,
   "id": "f6cb8a32",
   "metadata": {},
   "outputs": [
    {
     "data": {
      "text/plain": [
       "('ballers', 5)"
      ]
     },
     "execution_count": 234,
     "metadata": {},
     "output_type": "execute_result"
    }
   ],
   "source": [
    "# removes arbitory element and return key valuye pair tuple\n",
    "Dictionary1.popitem()"
   ]
  },
  {
   "cell_type": "code",
   "execution_count": 235,
   "id": "ddb79e16",
   "metadata": {},
   "outputs": [
    {
     "data": {
      "text/plain": [
       "'Key is not Present'"
      ]
     },
     "execution_count": 235,
     "metadata": {},
     "output_type": "execute_result"
    }
   ],
   "source": [
    "Dictionary1.pop('No Key', 'Key is not Present')"
   ]
  },
  {
   "cell_type": "code",
   "execution_count": 236,
   "id": "16f64cae",
   "metadata": {},
   "outputs": [
    {
     "data": {
      "text/plain": [
       "('overs', 50)"
      ]
     },
     "execution_count": 236,
     "metadata": {},
     "output_type": "execute_result"
    }
   ],
   "source": [
    "Dictionary1.popitem()"
   ]
  },
  {
   "cell_type": "code",
   "execution_count": 237,
   "id": "9d4c0fcc",
   "metadata": {},
   "outputs": [],
   "source": [
    "# dict with Tuple, List & Set\n",
    "fd = {\n",
    "    \"Fruit\": [\"Apple\", \"Orange\", \"Banana\"],\n",
    "    \"Vegetables\": (\"Eat\", \"Your\", \"Greens\"),\n",
    "    'Market': {'Pune', 'Nanded', 'Latur'}\n",
    "}"
   ]
  },
  {
   "cell_type": "code",
   "execution_count": 238,
   "id": "16a51be3",
   "metadata": {},
   "outputs": [],
   "source": [
    "# dict with Tuple & List\n",
    "food = {\n",
    "    \"Fruit\": [\"Apple\", \"Orange\", \"Banana\"],\n",
    "    \"Vegetables\": (\"Eat\", \"Your\", \"Greens\")\n",
    "}"
   ]
  },
  {
   "cell_type": "code",
   "execution_count": 239,
   "id": "de07e6d5",
   "metadata": {},
   "outputs": [
    {
     "data": {
      "text/plain": [
       "'Banana'"
      ]
     },
     "execution_count": 239,
     "metadata": {},
     "output_type": "execute_result"
    }
   ],
   "source": [
    "# Access a List Item within a Dictionary\n",
    "\n",
    "food['Fruit'][2]"
   ]
  },
  {
   "cell_type": "code",
   "execution_count": 240,
   "id": "85b9051b",
   "metadata": {},
   "outputs": [
    {
     "data": {
      "text/plain": [
       "{'Fruit': ['Apple', 'WaterMelon', 'Banana'],\n",
       " 'Vegetables': ('Eat', 'Your', 'Greens')}"
      ]
     },
     "execution_count": 240,
     "metadata": {},
     "output_type": "execute_result"
    }
   ],
   "source": [
    "# updating\n",
    "food['Fruit'][1] = 'WaterMelon'\n",
    "food"
   ]
  },
  {
   "cell_type": "code",
   "execution_count": 241,
   "id": "bd9ebc35",
   "metadata": {},
   "outputs": [
    {
     "data": {
      "text/plain": [
       "{'Earth': 40075, 'Saturn': 378675}"
      ]
     },
     "execution_count": 241,
     "metadata": {},
     "output_type": "execute_result"
    }
   ],
   "source": [
    "planet_size = {\"Earth\": 40075, \"Saturn\": 378675, \"Jupiter\": 439264}\n",
    "del planet_size['Jupiter']\n",
    "planet_size"
   ]
  },
  {
   "cell_type": "code",
   "execution_count": 242,
   "id": "a81997ec",
   "metadata": {},
   "outputs": [
    {
     "data": {
      "text/plain": [
       "True"
      ]
     },
     "execution_count": 242,
     "metadata": {},
     "output_type": "execute_result"
    }
   ],
   "source": [
    "'Earth' in planet_size"
   ]
  },
  {
   "cell_type": "code",
   "execution_count": 49,
   "id": "05a75ed1",
   "metadata": {},
   "outputs": [
    {
     "name": "stdout",
     "output_type": "stream",
     "text": [
      "3\n"
     ]
    }
   ],
   "source": [
    "dict1 = {'a': 1, 'b': 2, 'c': 3}\n",
    "\n",
    "\n",
    "def count_keys(dict):\n",
    "    count = 0\n",
    "    for i in enumerate(dict):\n",
    "        count += 1\n",
    "    return count\n",
    "\n",
    "\n",
    "print(count_keys(dict1))"
   ]
  },
  {
   "cell_type": "code",
   "execution_count": 51,
   "id": "c2d3ef29",
   "metadata": {},
   "outputs": [
    {
     "data": {
      "text/plain": [
       "3"
      ]
     },
     "execution_count": 51,
     "metadata": {},
     "output_type": "execute_result"
    }
   ],
   "source": [
    "len(dict1.keys())"
   ]
  },
  {
   "cell_type": "code",
   "execution_count": 52,
   "id": "a2a6956b",
   "metadata": {},
   "outputs": [
    {
     "data": {
      "text/plain": [
       "3"
      ]
     },
     "execution_count": 52,
     "metadata": {},
     "output_type": "execute_result"
    }
   ],
   "source": [
    "len(dict1.values())"
   ]
  },
  {
   "cell_type": "code",
   "execution_count": null,
   "id": "d4394779",
   "metadata": {},
   "outputs": [],
   "source": []
  },
  {
   "cell_type": "code",
   "execution_count": 59,
   "id": "e12aee13",
   "metadata": {},
   "outputs": [],
   "source": [
    "a = {'a': 1, 'b': 2, 'c': 3}\n",
    "b = {'d': 4, 'e': 5, 'f': 6}"
   ]
  },
  {
   "cell_type": "code",
   "execution_count": 60,
   "id": "c36d7c3e",
   "metadata": {},
   "outputs": [
    {
     "ename": "TypeError",
     "evalue": "unsupported operand type(s) for *: 'dict' and 'int'",
     "output_type": "error",
     "traceback": [
      "\u001b[1;31m---------------------------------------------------------------------------\u001b[0m",
      "\u001b[1;31mTypeError\u001b[0m                                 Traceback (most recent call last)",
      "\u001b[1;32m<ipython-input-60-6542eb27059a>\u001b[0m in \u001b[0;36m<module>\u001b[1;34m\u001b[0m\n\u001b[1;32m----> 1\u001b[1;33m \u001b[0ma\u001b[0m\u001b[1;33m*\u001b[0m\u001b[1;36m3\u001b[0m\u001b[1;33m\u001b[0m\u001b[1;33m\u001b[0m\u001b[0m\n\u001b[0m",
      "\u001b[1;31mTypeError\u001b[0m: unsupported operand type(s) for *: 'dict' and 'int'"
     ]
    }
   ],
   "source": [
    "a * 3"
   ]
  },
  {
   "cell_type": "code",
   "execution_count": 61,
   "id": "ec38c6ae",
   "metadata": {},
   "outputs": [
    {
     "ename": "TypeError",
     "evalue": "unsupported operand type(s) for *: 'dict' and 'dict'",
     "output_type": "error",
     "traceback": [
      "\u001b[1;31m---------------------------------------------------------------------------\u001b[0m",
      "\u001b[1;31mTypeError\u001b[0m                                 Traceback (most recent call last)",
      "\u001b[1;32m<ipython-input-61-ac686954dc0d>\u001b[0m in \u001b[0;36m<module>\u001b[1;34m\u001b[0m\n\u001b[1;32m----> 1\u001b[1;33m \u001b[0ma\u001b[0m\u001b[1;33m*\u001b[0m\u001b[0ma\u001b[0m\u001b[1;33m\u001b[0m\u001b[1;33m\u001b[0m\u001b[0m\n\u001b[0m",
      "\u001b[1;31mTypeError\u001b[0m: unsupported operand type(s) for *: 'dict' and 'dict'"
     ]
    }
   ],
   "source": [
    "a * a"
   ]
  },
  {
   "cell_type": "code",
   "execution_count": 62,
   "id": "36786db5",
   "metadata": {},
   "outputs": [
    {
     "ename": "TypeError",
     "evalue": "unsupported operand type(s) for +: 'dict' and 'dict'",
     "output_type": "error",
     "traceback": [
      "\u001b[1;31m---------------------------------------------------------------------------\u001b[0m",
      "\u001b[1;31mTypeError\u001b[0m                                 Traceback (most recent call last)",
      "\u001b[1;32m<ipython-input-62-6ff992d1ddd5>\u001b[0m in \u001b[0;36m<module>\u001b[1;34m\u001b[0m\n\u001b[1;32m----> 1\u001b[1;33m \u001b[0ma\u001b[0m\u001b[1;33m+\u001b[0m\u001b[0ma\u001b[0m\u001b[1;33m\u001b[0m\u001b[1;33m\u001b[0m\u001b[0m\n\u001b[0m",
      "\u001b[1;31mTypeError\u001b[0m: unsupported operand type(s) for +: 'dict' and 'dict'"
     ]
    }
   ],
   "source": [
    "a + a"
   ]
  },
  {
   "cell_type": "code",
   "execution_count": 63,
   "id": "87ac0ddc",
   "metadata": {},
   "outputs": [
    {
     "ename": "TypeError",
     "evalue": "unsupported operand type(s) for -: 'dict' and 'dict'",
     "output_type": "error",
     "traceback": [
      "\u001b[1;31m---------------------------------------------------------------------------\u001b[0m",
      "\u001b[1;31mTypeError\u001b[0m                                 Traceback (most recent call last)",
      "\u001b[1;32m<ipython-input-63-ff9f866f2426>\u001b[0m in \u001b[0;36m<module>\u001b[1;34m\u001b[0m\n\u001b[1;32m----> 1\u001b[1;33m \u001b[0ma\u001b[0m\u001b[1;33m-\u001b[0m\u001b[0ma\u001b[0m\u001b[1;33m\u001b[0m\u001b[1;33m\u001b[0m\u001b[0m\n\u001b[0m",
      "\u001b[1;31mTypeError\u001b[0m: unsupported operand type(s) for -: 'dict' and 'dict'"
     ]
    }
   ],
   "source": [
    "a - a"
   ]
  },
  {
   "cell_type": "code",
   "execution_count": 64,
   "id": "f104397b",
   "metadata": {},
   "outputs": [
    {
     "ename": "TypeError",
     "evalue": "unsupported operand type(s) for +: 'dict' and 'int'",
     "output_type": "error",
     "traceback": [
      "\u001b[1;31m---------------------------------------------------------------------------\u001b[0m",
      "\u001b[1;31mTypeError\u001b[0m                                 Traceback (most recent call last)",
      "\u001b[1;32m<ipython-input-64-bf58c781999a>\u001b[0m in \u001b[0;36m<module>\u001b[1;34m\u001b[0m\n\u001b[1;32m----> 1\u001b[1;33m \u001b[0ma\u001b[0m\u001b[1;33m+\u001b[0m\u001b[1;36m3\u001b[0m\u001b[1;33m\u001b[0m\u001b[1;33m\u001b[0m\u001b[0m\n\u001b[0m",
      "\u001b[1;31mTypeError\u001b[0m: unsupported operand type(s) for +: 'dict' and 'int'"
     ]
    }
   ],
   "source": [
    "a + 3"
   ]
  },
  {
   "cell_type": "code",
   "execution_count": null,
   "id": "65951cb7",
   "metadata": {},
   "outputs": [],
   "source": []
  },
  {
   "cell_type": "code",
   "execution_count": null,
   "id": "6d09cbaa",
   "metadata": {},
   "outputs": [],
   "source": []
  },
  {
   "cell_type": "code",
   "execution_count": null,
   "id": "f8e5783e",
   "metadata": {},
   "outputs": [],
   "source": []
  },
  {
   "cell_type": "code",
   "execution_count": null,
   "id": "aa66411b",
   "metadata": {},
   "outputs": [],
   "source": [
    "#[];  then ; says end of line"
   ]
  }
 ],
 "metadata": {
  "kernelspec": {
   "display_name": "Python 3 (ipykernel)",
   "language": "python",
   "name": "python3"
  },
  "language_info": {
   "codemirror_mode": {
    "name": "ipython",
    "version": 3
   },
   "file_extension": ".py",
   "mimetype": "text/x-python",
   "name": "python",
   "nbconvert_exporter": "python",
   "pygments_lexer": "ipython3",
   "version": "3.9.7"
  },
  "varInspector": {
   "cols": {
    "lenName": 16,
    "lenType": 16,
    "lenVar": 40
   },
   "kernels_config": {
    "python": {
     "delete_cmd_postfix": "",
     "delete_cmd_prefix": "del ",
     "library": "var_list.py",
     "varRefreshCmd": "print(var_dic_list())"
    },
    "r": {
     "delete_cmd_postfix": ") ",
     "delete_cmd_prefix": "rm(",
     "library": "var_list.r",
     "varRefreshCmd": "cat(var_dic_list()) "
    }
   },
   "types_to_exclude": [
    "module",
    "function",
    "builtin_function_or_method",
    "instance",
    "_Feature"
   ],
   "window_display": false
  }
 },
 "nbformat": 4,
 "nbformat_minor": 5
}
